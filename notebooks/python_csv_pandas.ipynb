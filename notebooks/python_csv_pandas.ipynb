{
 "cells": [
  {
   "cell_type": "markdown",
   "source": "## Pandas and CSV\n\n#### 1. Import ```pandas```. \n> [Pandas](https://pandas.pydata.org/docs/) is an open source data analysis tool! It can **[read, write and manipulate](https://pandas.pydata.org/docs/reference/io.html)** most common forms of data (csv, json, excel etc).",
   "metadata": {
    "tags": [],
    "cell_id": "00000-4da200c3-bcac-40d9-b47e-a8fe90efd55c",
    "deepnote_cell_type": "markdown"
   }
  },
  {
   "cell_type": "code",
   "metadata": {
    "tags": [],
    "output_cleared": false,
    "source_hash": "9b82ee11",
    "execution_millis": 1,
    "execution_start": 1620378780750,
    "cell_id": "00001-ff6a9660-58f6-452d-9859-155009609218",
    "deepnote_to_be_reexecuted": false,
    "deepnote_cell_type": "code"
   },
   "source": "import pandas as pd",
   "outputs": [],
   "execution_count": null
  },
  {
   "cell_type": "markdown",
   "source": "#### 2. Read in the **CSV** data using Pandas\n> Keep the [Pandas API Reference Guide](https://pandas.pydata.org/docs/reference/index.html#api) handy e.g. to read in CSV data via pandas, scroll down to the bottom of [this ```read_csv``` reference](https://pandas.pydata.org/docs/reference/api/pandas.read_csv.html#pandas.read_csv) for example code.",
   "metadata": {
    "tags": [],
    "cell_id": "00002-96d01462-5293-44aa-aab6-9e24d87b6ed1",
    "deepnote_cell_type": "markdown"
   }
  },
  {
   "cell_type": "code",
   "metadata": {
    "tags": [],
    "cell_id": "00003-7a955d3b-da11-415c-ab69-9b7cde0273ae",
    "deepnote_to_be_reexecuted": false,
    "source_hash": "44a32e33",
    "execution_start": 1620378866857,
    "execution_millis": 36,
    "deepnote_cell_type": "code"
   },
   "source": "df = pd.read_csv('./../data/swimming_psb_data.csv')",
   "outputs": [],
   "execution_count": null
  },
  {
   "cell_type": "markdown",
   "source": "#### 3. Filter Dataframe to contain athletes from 'Great Britain' only.\n> e.g. https://stackoverflow.com/questions/17071871/how-to-select-rows-from-a-dataframe-based-on-column-values",
   "metadata": {
    "tags": [],
    "cell_id": "00002-5d81d3aa-18ba-421f-88ac-322e4c2f7462",
    "deepnote_cell_type": "markdown"
   }
  },
  {
   "cell_type": "code",
   "metadata": {
    "tags": [],
    "cell_id": "00003-de195049-1213-4834-b400-ca5626de601f",
    "deepnote_to_be_reexecuted": false,
    "source_hash": "4d79e060",
    "execution_start": 1620379110325,
    "execution_millis": 143,
    "deepnote_cell_type": "code"
   },
   "source": "df = df.loc[df['c_NOC'] == 'Great Britain']\ndf",
   "outputs": [
    {
     "output_type": "execute_result",
     "execution_count": 14,
     "data": {
      "application/vnd.deepnote.dataframe.v2+json": {
       "row_count": 874,
       "column_count": 11,
       "columns": [
        {
         "name": "c_Sport",
         "dtype": "object",
         "stats": {
          "unique_count": 1,
          "nan_count": 0,
          "categories": [
           {
            "name": "Swimming",
            "count": 874
           }
          ]
         }
        },
        {
         "name": "c_Season",
         "dtype": "int64",
         "stats": {
          "unique_count": 1,
          "nan_count": 0,
          "min": "2018",
          "max": "2018",
          "histogram": [
           {
            "bin_start": 2017.5,
            "bin_end": 2017.6,
            "count": 0
           },
           {
            "bin_start": 2017.6,
            "bin_end": 2017.7,
            "count": 0
           },
           {
            "bin_start": 2017.7,
            "bin_end": 2017.8,
            "count": 0
           },
           {
            "bin_start": 2017.8,
            "bin_end": 2017.9,
            "count": 0
           },
           {
            "bin_start": 2017.9,
            "bin_end": 2018,
            "count": 0
           },
           {
            "bin_start": 2018,
            "bin_end": 2018.1,
            "count": 874
           },
           {
            "bin_start": 2018.1,
            "bin_end": 2018.2,
            "count": 0
           },
           {
            "bin_start": 2018.2,
            "bin_end": 2018.3,
            "count": 0
           },
           {
            "bin_start": 2018.3,
            "bin_end": 2018.4,
            "count": 0
           },
           {
            "bin_start": 2018.4,
            "bin_end": 2018.5,
            "count": 0
           }
          ]
         }
        },
        {
         "name": "c_Event",
         "dtype": "object",
         "stats": {
          "unique_count": 20,
          "nan_count": 0,
          "categories": [
           {
            "name": "50m Breaststroke",
            "count": 66
           },
           {
            "name": "200m Backstroke",
            "count": 65
           },
           {
            "name": "18 others",
            "count": 743
           }
          ]
         }
        },
        {
         "name": "c_Gender",
         "dtype": "object",
         "stats": {
          "unique_count": 3,
          "nan_count": 0,
          "categories": [
           {
            "name": "Women",
            "count": 502
           },
           {
            "name": "Men",
            "count": 369
           },
           {
            "name": "Mixed",
            "count": 3
           }
          ]
         }
        },
        {
         "name": "n_DateSort",
         "dtype": "int64",
         "stats": {
          "unique_count": 89,
          "nan_count": 0,
          "min": "20180111",
          "max": "20181201",
          "histogram": [
           {
            "bin_start": 20180111,
            "bin_end": 20180220,
            "count": 27
           },
           {
            "bin_start": 20180220,
            "bin_end": 20180329,
            "count": 125
           },
           {
            "bin_start": 20180329,
            "bin_end": 20180438,
            "count": 195
           },
           {
            "bin_start": 20180438,
            "bin_end": 20180547,
            "count": 32
           },
           {
            "bin_start": 20180547,
            "bin_end": 20180656,
            "count": 27
           },
           {
            "bin_start": 20180656,
            "bin_end": 20180765,
            "count": 413
           },
           {
            "bin_start": 20180765,
            "bin_end": 20180874,
            "count": 49
           },
           {
            "bin_start": 20180874,
            "bin_end": 20180983,
            "count": 0
           },
           {
            "bin_start": 20180983,
            "bin_end": 20181092,
            "count": 0
           },
           {
            "bin_start": 20181092,
            "bin_end": 20181201,
            "count": 6
           }
          ]
         }
        },
        {
         "name": "c_Person",
         "dtype": "object",
         "stats": {
          "unique_count": 362,
          "nan_count": 9,
          "categories": [
           {
            "name": "Laura Stephens",
            "count": 8
           },
           {
            "name": "361 others",
            "count": 857
           },
           {
            "name": "Missing",
            "count": 9
           }
          ]
         }
        },
        {
         "name": "c_PersonNatio",
         "dtype": "object",
         "stats": {
          "unique_count": 9,
          "nan_count": 9,
          "categories": [
           {
            "name": "Great Britain",
            "count": 609
           },
           {
            "name": "8 others",
            "count": 256
           },
           {
            "name": "Missing",
            "count": 9
           }
          ]
         }
        },
        {
         "name": "c_NOC",
         "dtype": "object",
         "stats": {
          "unique_count": 1,
          "nan_count": 0,
          "categories": [
           {
            "name": "Great Britain",
            "count": 874
           }
          ]
         }
        },
        {
         "name": "c_Result",
         "dtype": "object",
         "stats": {
          "unique_count": 815,
          "nan_count": 0,
          "categories": [
           {
            "name": "25.94",
            "count": 4
           },
           {
            "name": "26.09",
            "count": 3
           },
           {
            "name": "813 others",
            "count": 867
           }
          ]
         }
        },
        {
         "name": "n_ResultSort",
         "dtype": "int64",
         "stats": {
          "unique_count": 815,
          "nan_count": 0,
          "min": "21110",
          "max": "1034890",
          "histogram": [
           {
            "bin_start": 21110,
            "bin_end": 122488,
            "count": 500
           },
           {
            "bin_start": 122488,
            "bin_end": 223866,
            "count": 204
           },
           {
            "bin_start": 223866,
            "bin_end": 325244,
            "count": 89
           },
           {
            "bin_start": 325244,
            "bin_end": 426622,
            "count": 1
           },
           {
            "bin_start": 426622,
            "bin_end": 528000,
            "count": 29
           },
           {
            "bin_start": 528000,
            "bin_end": 629378,
            "count": 20
           },
           {
            "bin_start": 629378,
            "bin_end": 730756,
            "count": 0
           },
           {
            "bin_start": 730756,
            "bin_end": 832134,
            "count": 0
           },
           {
            "bin_start": 832134,
            "bin_end": 933512,
            "count": 3
           },
           {
            "bin_start": 933512,
            "bin_end": 1034890,
            "count": 28
           }
          ]
         }
        },
        {
         "name": "c_Class",
         "dtype": "object",
         "stats": {
          "unique_count": 1,
          "nan_count": 0,
          "categories": [
           {
            "name": "Elite",
            "count": 874
           }
          ]
         }
        },
        {
         "name": "_deepnote_index_column",
         "dtype": "int64"
        }
       ],
       "rows_top": [
        {
         "c_Sport": "Swimming",
         "c_Season": 2018,
         "c_Event": "100m Backstroke",
         "c_Gender": "Men",
         "n_DateSort": 20180407,
         "c_Person": "Chris Walker-Hebborn",
         "c_PersonNatio": "England",
         "c_NOC": "Great Britain",
         "c_Result": "54.23",
         "n_ResultSort": 54230,
         "c_Class": "Elite",
         "_deepnote_index_column": 39
        },
        {
         "c_Sport": "Swimming",
         "c_Season": 2018,
         "c_Event": "100m Backstroke",
         "c_Gender": "Men",
         "n_DateSort": 20180406,
         "c_Person": "Luke Greenbank",
         "c_PersonNatio": "England",
         "c_NOC": "Great Britain",
         "c_Result": "54.37",
         "n_ResultSort": 54370,
         "c_Class": "Elite",
         "_deepnote_index_column": 47
        },
        {
         "c_Sport": "Swimming",
         "c_Season": 2018,
         "c_Event": "100m Backstroke",
         "c_Gender": "Men",
         "n_DateSort": 20180806,
         "c_Person": "Nicholas Pyle",
         "c_PersonNatio": "Great Britain",
         "c_NOC": "Great Britain",
         "c_Result": "54.50",
         "n_ResultSort": 54500,
         "c_Class": "Elite",
         "_deepnote_index_column": 60
        },
        {
         "c_Sport": "Swimming",
         "c_Season": 2018,
         "c_Event": "100m Backstroke",
         "c_Gender": "Men",
         "n_DateSort": 20180406,
         "c_Person": "Xavier Castelli",
         "c_PersonNatio": "Wales",
         "c_NOC": "Great Britain",
         "c_Result": "54.60",
         "n_ResultSort": 54600,
         "c_Class": "Elite",
         "_deepnote_index_column": 62
        },
        {
         "c_Sport": "Swimming",
         "c_Season": 2018,
         "c_Event": "100m Backstroke",
         "c_Gender": "Men",
         "n_DateSort": 20180805,
         "c_Person": "Brodie Williams",
         "c_PersonNatio": "Great Britain",
         "c_NOC": "Great Britain",
         "c_Result": "54.60",
         "n_ResultSort": 54600,
         "c_Class": "Elite",
         "_deepnote_index_column": 63
        },
        {
         "c_Sport": "Swimming",
         "c_Season": 2018,
         "c_Event": "100m Backstroke",
         "c_Gender": "Men",
         "n_DateSort": 20180405,
         "c_Person": "Elliot Clogg",
         "c_PersonNatio": "England",
         "c_NOC": "Great Britain",
         "c_Result": "55.08",
         "n_ResultSort": 55080,
         "c_Class": "Elite",
         "_deepnote_index_column": 108
        },
        {
         "c_Sport": "Swimming",
         "c_Season": 2018,
         "c_Event": "100m Backstroke",
         "c_Gender": "Men",
         "n_DateSort": 20180407,
         "c_Person": "Daniel Cross",
         "c_PersonNatio": "Great Britain",
         "c_NOC": "Great Britain",
         "c_Result": "55.09",
         "n_ResultSort": 55090,
         "c_Class": "Elite",
         "_deepnote_index_column": 111
        },
        {
         "c_Sport": "Swimming",
         "c_Season": 2018,
         "c_Event": "100m Backstroke",
         "c_Gender": "Men",
         "n_DateSort": 20180405,
         "c_Person": "Craig McNally",
         "c_PersonNatio": "Scotland",
         "c_NOC": "Great Britain",
         "c_Result": "55.28",
         "n_ResultSort": 55280,
         "c_Class": "Elite",
         "_deepnote_index_column": 126
        },
        {
         "c_Sport": "Swimming",
         "c_Season": 2018,
         "c_Event": "100m Backstroke",
         "c_Gender": "Men",
         "n_DateSort": 20180725,
         "c_Person": "Martyn Walton",
         "c_PersonNatio": "England",
         "c_NOC": "Great Britain",
         "c_Result": "55.34",
         "n_ResultSort": 55340,
         "c_Class": "Elite",
         "_deepnote_index_column": 134
        },
        {
         "c_Sport": "Swimming",
         "c_Season": 2018,
         "c_Event": "100m Backstroke",
         "c_Gender": "Men",
         "n_DateSort": 20180721,
         "c_Person": "Joseph Clark",
         "c_PersonNatio": "Great Britain",
         "c_NOC": "Great Britain",
         "c_Result": "55.55",
         "n_ResultSort": 55550,
         "c_Class": "Elite",
         "_deepnote_index_column": 174
        },
        {
         "c_Sport": "Swimming",
         "c_Season": 2018,
         "c_Event": "100m Backstroke",
         "c_Gender": "Men",
         "n_DateSort": 20180406,
         "c_Person": "Joseph Hulme",
         "c_PersonNatio": "Great Britain",
         "c_NOC": "Great Britain",
         "c_Result": "55.77",
         "n_ResultSort": 55770,
         "c_Class": "Elite",
         "_deepnote_index_column": 194
        },
        {
         "c_Sport": "Swimming",
         "c_Season": 2018,
         "c_Event": "100m Backstroke",
         "c_Gender": "Men",
         "n_DateSort": 20180407,
         "c_Person": "Timothy Shuttleworth",
         "c_PersonNatio": "Great Britain",
         "c_NOC": "Great Britain",
         "c_Result": "55.96",
         "n_ResultSort": 55960,
         "c_Class": "Elite",
         "_deepnote_index_column": 227
        },
        {
         "c_Sport": "Swimming",
         "c_Season": 2018,
         "c_Event": "100m Backstroke",
         "c_Gender": "Men",
         "n_DateSort": 20180728,
         "c_Person": "Francisco Rogerio Santos",
         "c_PersonNatio": "Great Britain",
         "c_NOC": "Great Britain",
         "c_Result": "56.03",
         "n_ResultSort": 56030,
         "c_Class": "Elite",
         "_deepnote_index_column": 235
        },
        {
         "c_Sport": "Swimming",
         "c_Season": 2018,
         "c_Event": "100m Backstroke",
         "c_Gender": "Men",
         "n_DateSort": 20180725,
         "c_Person": "Oliver Fitt",
         "c_PersonNatio": "Great Britain",
         "c_NOC": "Great Britain",
         "c_Result": "56.07",
         "n_ResultSort": 56070,
         "c_Class": "Elite",
         "_deepnote_index_column": 241
        },
        {
         "c_Sport": "Swimming",
         "c_Season": 2018,
         "c_Event": "100m Backstroke",
         "c_Gender": "Men",
         "n_DateSort": 20180725,
         "c_Person": "Joseph Small",
         "c_PersonNatio": "Great Britain",
         "c_NOC": "Great Britain",
         "c_Result": "56.07",
         "n_ResultSort": 56070,
         "c_Class": "Elite",
         "_deepnote_index_column": 242
        },
        {
         "c_Sport": "Swimming",
         "c_Season": 2018,
         "c_Event": "100m Backstroke",
         "c_Gender": "Men",
         "n_DateSort": 20180725,
         "c_Person": "Liam White",
         "c_PersonNatio": "Great Britain",
         "c_NOC": "Great Britain",
         "c_Result": "56.29",
         "n_ResultSort": 56290,
         "c_Class": "Elite",
         "_deepnote_index_column": 278
        },
        {
         "c_Sport": "Swimming",
         "c_Season": 2018,
         "c_Event": "100m Backstroke",
         "c_Gender": "Men",
         "n_DateSort": 20180405,
         "c_Person": "Harry Shalamon",
         "c_PersonNatio": "Jersey",
         "c_NOC": "Great Britain",
         "c_Result": "56.41",
         "n_ResultSort": 56410,
         "c_Class": "Elite",
         "_deepnote_index_column": 296
        },
        {
         "c_Sport": "Swimming",
         "c_Season": 2018,
         "c_Event": "100m Backstroke",
         "c_Gender": "Men",
         "n_DateSort": 20180302,
         "c_Person": "Duncan Scott",
         "c_PersonNatio": "Scotland",
         "c_NOC": "Great Britain",
         "c_Result": "56.43",
         "n_ResultSort": 56430,
         "c_Class": "Elite",
         "_deepnote_index_column": 297
        },
        {
         "c_Sport": "Swimming",
         "c_Season": 2018,
         "c_Event": "100m Backstroke",
         "c_Gender": "Men",
         "n_DateSort": 20180725,
         "c_Person": "Scott Gibson",
         "c_PersonNatio": "Great Britain",
         "c_NOC": "Great Britain",
         "c_Result": "56.46",
         "n_ResultSort": 56460,
         "c_Class": "Elite",
         "_deepnote_index_column": 306
        },
        {
         "c_Sport": "Swimming",
         "c_Season": 2018,
         "c_Event": "100m Backstroke",
         "c_Gender": "Men",
         "n_DateSort": 20180725,
         "c_Person": "James Oxborrow",
         "c_PersonNatio": "Great Britain",
         "c_NOC": "Great Britain",
         "c_Result": "56.49",
         "n_ResultSort": 56490,
         "c_Class": "Elite",
         "_deepnote_index_column": 312
        },
        {
         "c_Sport": "Swimming",
         "c_Season": 2018,
         "c_Event": "100m Backstroke",
         "c_Gender": "Men",
         "n_DateSort": 20180725,
         "c_Person": "James Mcfadzen",
         "c_PersonNatio": "Great Britain",
         "c_NOC": "Great Britain",
         "c_Result": "56.53",
         "n_ResultSort": 56530,
         "c_Class": "Elite",
         "_deepnote_index_column": 323
        },
        {
         "c_Sport": "Swimming",
         "c_Season": 2018,
         "c_Event": "100m Backstroke",
         "c_Gender": "Men",
         "n_DateSort": 20180725,
         "c_Person": "Callum Barrett",
         "c_PersonNatio": "Great Britain",
         "c_NOC": "Great Britain",
         "c_Result": "56.67",
         "n_ResultSort": 56670,
         "c_Class": "Elite",
         "_deepnote_index_column": 355
        },
        {
         "c_Sport": "Swimming",
         "c_Season": 2018,
         "c_Event": "100m Backstroke",
         "c_Gender": "Men",
         "n_DateSort": 20180725,
         "c_Person": "Charlie Brown",
         "c_PersonNatio": "Great Britain",
         "c_NOC": "Great Britain",
         "c_Result": "56.74",
         "n_ResultSort": 56740,
         "c_Class": "Elite",
         "_deepnote_index_column": 375
        },
        {
         "c_Sport": "Swimming",
         "c_Season": 2018,
         "c_Event": "100m Backstroke",
         "c_Gender": "Men",
         "n_DateSort": 20180728,
         "c_Person": "William Kearsey",
         "c_PersonNatio": "Great Britain",
         "c_NOC": "Great Britain",
         "c_Result": "56.86",
         "n_ResultSort": 56860,
         "c_Class": "Elite",
         "_deepnote_index_column": 409
        },
        {
         "c_Sport": "Swimming",
         "c_Season": 2018,
         "c_Event": "100m Backstroke",
         "c_Gender": "Men",
         "n_DateSort": 20180302,
         "c_Person": "Jack Shillinglaw",
         "c_PersonNatio": "Great Britain",
         "c_NOC": "Great Britain",
         "c_Result": "56.94",
         "n_ResultSort": 56940,
         "c_Class": "Elite",
         "_deepnote_index_column": 424
        },
        {
         "c_Sport": "Swimming",
         "c_Season": 2018,
         "c_Event": "100m Backstroke",
         "c_Gender": "Men",
         "n_DateSort": 20180725,
         "c_Person": "Myles Stirk",
         "c_PersonNatio": "Great Britain",
         "c_NOC": "Great Britain",
         "c_Result": "56.96",
         "n_ResultSort": 56960,
         "c_Class": "Elite",
         "_deepnote_index_column": 434
        },
        {
         "c_Sport": "Swimming",
         "c_Season": 2018,
         "c_Event": "100m Backstroke",
         "c_Gender": "Men",
         "n_DateSort": 20180302,
         "c_Person": "Thomas Gilroy",
         "c_PersonNatio": "Great Britain",
         "c_NOC": "Great Britain",
         "c_Result": "57.00",
         "n_ResultSort": 57000,
         "c_Class": "Elite",
         "_deepnote_index_column": 443
        },
        {
         "c_Sport": "Swimming",
         "c_Season": 2018,
         "c_Event": "100m Backstroke",
         "c_Gender": "Men",
         "n_DateSort": 20180302,
         "c_Person": "Perry Gardner",
         "c_PersonNatio": "Great Britain",
         "c_NOC": "Great Britain",
         "c_Result": "57.02",
         "n_ResultSort": 57020,
         "c_Class": "Elite",
         "_deepnote_index_column": 450
        },
        {
         "c_Sport": "Swimming",
         "c_Season": 2018,
         "c_Event": "100m Backstroke",
         "c_Gender": "Men",
         "n_DateSort": 20180725,
         "c_Person": "Jacob Davies",
         "c_PersonNatio": "Great Britain",
         "c_NOC": "Great Britain",
         "c_Result": "57.11",
         "n_ResultSort": 57110,
         "c_Class": "Elite",
         "_deepnote_index_column": 467
        },
        {
         "c_Sport": "Swimming",
         "c_Season": 2018,
         "c_Event": "100m Backstroke",
         "c_Gender": "Men",
         "n_DateSort": 20180302,
         "c_Person": "Kyle Chisholm",
         "c_PersonNatio": "Great Britain",
         "c_NOC": "Great Britain",
         "c_Result": "57.17",
         "n_ResultSort": 57170,
         "c_Class": "Elite",
         "_deepnote_index_column": 479
        },
        {
         "c_Sport": "Swimming",
         "c_Season": 2018,
         "c_Event": "100m Backstroke",
         "c_Gender": "Women",
         "n_DateSort": 20180806,
         "c_Person": "Georgia Davies",
         "c_PersonNatio": "Wales",
         "c_NOC": "Great Britain",
         "c_Result": "59.12",
         "n_ResultSort": 59120,
         "c_Class": "Elite",
         "_deepnote_index_column": 499
        },
        {
         "c_Sport": "Swimming",
         "c_Season": 2018,
         "c_Event": "100m Backstroke",
         "c_Gender": "Women",
         "n_DateSort": 20180809,
         "c_Person": "Kathleen Dawson",
         "c_PersonNatio": "Scotland",
         "c_NOC": "Great Britain",
         "c_Result": "1:00.17",
         "n_ResultSort": 60170,
         "c_Class": "Elite",
         "_deepnote_index_column": 530
        },
        {
         "c_Sport": "Swimming",
         "c_Season": 2018,
         "c_Event": "100m Backstroke",
         "c_Gender": "Women",
         "n_DateSort": 20180406,
         "c_Person": "Elizabeth Simmonds",
         "c_PersonNatio": "England",
         "c_NOC": "Great Britain",
         "c_Result": "1:00.49",
         "n_ResultSort": 60490,
         "c_Class": "Elite",
         "_deepnote_index_column": 542
        },
        {
         "c_Sport": "Swimming",
         "c_Season": 2018,
         "c_Event": "100m Backstroke",
         "c_Gender": "Women",
         "n_DateSort": 20180406,
         "c_Person": "Cassie Wild",
         "c_PersonNatio": "Scotland",
         "c_NOC": "Great Britain",
         "c_Result": "1:00.93",
         "n_ResultSort": 60930,
         "c_Class": "Elite",
         "_deepnote_index_column": 559
        },
        {
         "c_Sport": "Swimming",
         "c_Season": 2018,
         "c_Event": "100m Backstroke",
         "c_Gender": "Women",
         "n_DateSort": 20180406,
         "c_Person": "Jessica Fullalove",
         "c_PersonNatio": "England",
         "c_NOC": "Great Britain",
         "c_Result": "1:01.04",
         "n_ResultSort": 61040,
         "c_Class": "Elite",
         "_deepnote_index_column": 568
        },
        {
         "c_Sport": "Swimming",
         "c_Season": 2018,
         "c_Event": "100m Backstroke",
         "c_Gender": "Women",
         "n_DateSort": 20180725,
         "c_Person": "Lily Boseley",
         "c_PersonNatio": "Great Britain",
         "c_NOC": "Great Britain",
         "c_Result": "1:01.54",
         "n_ResultSort": 61540,
         "c_Class": "Elite",
         "_deepnote_index_column": 599
        },
        {
         "c_Sport": "Swimming",
         "c_Season": 2018,
         "c_Event": "100m Backstroke",
         "c_Gender": "Women",
         "n_DateSort": 20180725,
         "c_Person": "Chloe Golding",
         "c_PersonNatio": "England",
         "c_NOC": "Great Britain",
         "c_Result": "1:01.56",
         "n_ResultSort": 61560,
         "c_Class": "Elite",
         "_deepnote_index_column": 600
        },
        {
         "c_Sport": "Swimming",
         "c_Season": 2018,
         "c_Event": "100m Backstroke",
         "c_Gender": "Women",
         "n_DateSort": 20180725,
         "c_Person": "Alicia Wilson",
         "c_PersonNatio": "Great Britain",
         "c_NOC": "Great Britain",
         "c_Result": "1:01.73",
         "n_ResultSort": 61730,
         "c_Class": "Elite",
         "_deepnote_index_column": 623
        },
        {
         "c_Sport": "Swimming",
         "c_Season": 2018,
         "c_Event": "100m Backstroke",
         "c_Gender": "Women",
         "n_DateSort": 20180725,
         "c_Person": "Lauren Cox",
         "c_PersonNatio": "Great Britain",
         "c_NOC": "Great Britain",
         "c_Result": "1:01.99",
         "n_ResultSort": 61990,
         "c_Class": "Elite",
         "_deepnote_index_column": 648
        },
        {
         "c_Sport": "Swimming",
         "c_Season": 2018,
         "c_Event": "100m Backstroke",
         "c_Gender": "Women",
         "n_DateSort": 20180406,
         "c_Person": "Anna Maine",
         "c_PersonNatio": "England",
         "c_NOC": "Great Britain",
         "c_Result": "1:02.29",
         "n_ResultSort": 62290,
         "c_Class": "Elite",
         "_deepnote_index_column": 681
        },
        {
         "c_Sport": "Swimming",
         "c_Season": 2018,
         "c_Event": "100m Backstroke",
         "c_Gender": "Women",
         "n_DateSort": 20180725,
         "c_Person": "Tegan Drew",
         "c_PersonNatio": "Great Britain",
         "c_NOC": "Great Britain",
         "c_Result": "1:02.34",
         "n_ResultSort": 62340,
         "c_Class": "Elite",
         "_deepnote_index_column": 690
        },
        {
         "c_Sport": "Swimming",
         "c_Season": 2018,
         "c_Event": "100m Backstroke",
         "c_Gender": "Women",
         "n_DateSort": 20180725,
         "c_Person": "Laura Stephens",
         "c_PersonNatio": "England",
         "c_NOC": "Great Britain",
         "c_Result": "1:02.40",
         "n_ResultSort": 62400,
         "c_Class": "Elite",
         "_deepnote_index_column": 702
        },
        {
         "c_Sport": "Swimming",
         "c_Season": 2018,
         "c_Event": "100m Backstroke",
         "c_Gender": "Women",
         "n_DateSort": 20180725,
         "c_Person": "Jennifer King",
         "c_PersonNatio": "Great Britain",
         "c_NOC": "Great Britain",
         "c_Result": "1:02.61",
         "n_ResultSort": 62610,
         "c_Class": "Elite",
         "_deepnote_index_column": 736
        },
        {
         "c_Sport": "Swimming",
         "c_Season": 2018,
         "c_Event": "100m Backstroke",
         "c_Gender": "Women",
         "n_DateSort": 20180406,
         "c_Person": "Charlotte Evans",
         "c_PersonNatio": "Great Britain",
         "c_NOC": "Great Britain",
         "c_Result": "1:02.61",
         "n_ResultSort": 62610,
         "c_Class": "Elite",
         "_deepnote_index_column": 737
        },
        {
         "c_Sport": "Swimming",
         "c_Season": 2018,
         "c_Event": "100m Backstroke",
         "c_Gender": "Women",
         "n_DateSort": 20180303,
         "c_Person": "Kathryn Greenslade",
         "c_PersonNatio": "Wales",
         "c_NOC": "Great Britain",
         "c_Result": "1:02.64",
         "n_ResultSort": 62640,
         "c_Class": "Elite",
         "_deepnote_index_column": 745
        }
       ],
       "rows_bottom": [
        {
         "c_Sport": "Swimming",
         "c_Season": 2018,
         "c_Event": "800m Freestyle",
         "c_Gender": "Men",
         "n_DateSort": 20180301,
         "c_Person": "Daniel Jervis",
         "c_PersonNatio": "Wales",
         "c_NOC": "Great Britain",
         "c_Result": "8:01.56",
         "n_ResultSort": 481560,
         "c_Class": "Elite",
         "_deepnote_index_column": 16041
        },
        {
         "c_Sport": "Swimming",
         "c_Season": 2018,
         "c_Event": "800m Freestyle",
         "c_Gender": "Men",
         "n_DateSort": 20180707,
         "c_Person": "Nathan Hughes",
         "c_PersonNatio": "Great Britain",
         "c_NOC": "Great Britain",
         "c_Result": "8:05.15",
         "n_ResultSort": 485150,
         "c_Class": "Elite",
         "_deepnote_index_column": 16078
        },
        {
         "c_Sport": "Swimming",
         "c_Season": 2018,
         "c_Event": "800m Freestyle",
         "c_Gender": "Men",
         "n_DateSort": 20180728,
         "c_Person": "Luke Turley",
         "c_PersonNatio": "Great Britain",
         "c_NOC": "Great Britain",
         "c_Result": "8:07.61",
         "n_ResultSort": 487610,
         "c_Class": "Elite",
         "_deepnote_index_column": 16112
        },
        {
         "c_Sport": "Swimming",
         "c_Season": 2018,
         "c_Event": "800m Freestyle",
         "c_Gender": "Men",
         "n_DateSort": 20180303,
         "c_Person": "Stephen Milne",
         "c_PersonNatio": "Scotland",
         "c_NOC": "Great Britain",
         "c_Result": "8:08.67",
         "n_ResultSort": 488670,
         "c_Class": "Elite",
         "_deepnote_index_column": 16129
        },
        {
         "c_Sport": "Swimming",
         "c_Season": 2018,
         "c_Event": "800m Freestyle",
         "c_Gender": "Men",
         "n_DateSort": 20180728,
         "c_Person": "Samuel Budd",
         "c_PersonNatio": "Great Britain",
         "c_NOC": "Great Britain",
         "c_Result": "8:08.97",
         "n_ResultSort": 488970,
         "c_Class": "Elite",
         "_deepnote_index_column": 16136
        },
        {
         "c_Sport": "Swimming",
         "c_Season": 2018,
         "c_Event": "800m Freestyle",
         "c_Gender": "Men",
         "n_DateSort": 20180728,
         "c_Person": "Jakob Goodman",
         "c_PersonNatio": "Great Britain",
         "c_NOC": "Great Britain",
         "c_Result": "8:09.00",
         "n_ResultSort": 489000,
         "c_Class": "Elite",
         "_deepnote_index_column": 16138
        },
        {
         "c_Sport": "Swimming",
         "c_Season": 2018,
         "c_Event": "800m Freestyle",
         "c_Gender": "Men",
         "n_DateSort": 20180728,
         "c_Person": "William Bell",
         "c_PersonNatio": "Great Britain",
         "c_NOC": "Great Britain",
         "c_Result": "8:10.76",
         "n_ResultSort": 490760,
         "c_Class": "Elite",
         "_deepnote_index_column": 16171
        },
        {
         "c_Sport": "Swimming",
         "c_Season": 2018,
         "c_Event": "800m Freestyle",
         "c_Gender": "Men",
         "n_DateSort": 20181128,
         "c_Person": "Gordon Mason",
         "c_PersonNatio": "Great Britain",
         "c_NOC": "Great Britain",
         "c_Result": "8:12.87",
         "n_ResultSort": 492870,
         "c_Class": "Elite",
         "_deepnote_index_column": 16215
        },
        {
         "c_Sport": "Swimming",
         "c_Season": 2018,
         "c_Event": "800m Freestyle",
         "c_Gender": "Men",
         "n_DateSort": 20180728,
         "c_Person": "Samuel Osborne",
         "c_PersonNatio": "Great Britain",
         "c_NOC": "Great Britain",
         "c_Result": "8:15.33",
         "n_ResultSort": 495330,
         "c_Class": "Elite",
         "_deepnote_index_column": 16266
        },
        {
         "c_Sport": "Swimming",
         "c_Season": 2018,
         "c_Event": "800m Freestyle",
         "c_Gender": "Men",
         "n_DateSort": 20180408,
         "c_Person": "William Ryley",
         "c_PersonNatio": "Great Britain",
         "c_NOC": "Great Britain",
         "c_Result": "8:17.00",
         "n_ResultSort": 497000,
         "c_Class": "Elite",
         "_deepnote_index_column": 16297
        },
        {
         "c_Sport": "Swimming",
         "c_Season": 2018,
         "c_Event": "800m Freestyle",
         "c_Gender": "Men",
         "n_DateSort": 20180728,
         "c_Person": "Nathan Wells",
         "c_PersonNatio": "Great Britain",
         "c_NOC": "Great Britain",
         "c_Result": "8:19.66",
         "n_ResultSort": 499660,
         "c_Class": "Elite",
         "_deepnote_index_column": 16357
        },
        {
         "c_Sport": "Swimming",
         "c_Season": 2018,
         "c_Event": "800m Freestyle",
         "c_Gender": "Men",
         "n_DateSort": 20180728,
         "c_Person": "Charlie Poole",
         "c_PersonNatio": "Great Britain",
         "c_NOC": "Great Britain",
         "c_Result": "8:20.12",
         "n_ResultSort": 500120,
         "c_Class": "Elite",
         "_deepnote_index_column": 16365
        },
        {
         "c_Sport": "Swimming",
         "c_Season": 2018,
         "c_Event": "800m Freestyle",
         "c_Gender": "Men",
         "n_DateSort": 20180813,
         "c_Person": "Giuseppe Bogani",
         "c_PersonNatio": "Great Britain",
         "c_NOC": "Great Britain",
         "c_Result": "8:20.29",
         "n_ResultSort": 500290,
         "c_Class": "Elite",
         "_deepnote_index_column": 16371
        },
        {
         "c_Sport": "Swimming",
         "c_Season": 2018,
         "c_Event": "800m Freestyle",
         "c_Gender": "Men",
         "n_DateSort": 20180728,
         "c_Person": "Ryan Reader",
         "c_PersonNatio": "Great Britain",
         "c_NOC": "Great Britain",
         "c_Result": "8:20.54",
         "n_ResultSort": 500540,
         "c_Class": "Elite",
         "_deepnote_index_column": 16379
        },
        {
         "c_Sport": "Swimming",
         "c_Season": 2018,
         "c_Event": "800m Freestyle",
         "c_Gender": "Men",
         "n_DateSort": 20180728,
         "c_Person": "Hector Pardoe",
         "c_PersonNatio": "Great Britain",
         "c_NOC": "Great Britain",
         "c_Result": "8:21.17",
         "n_ResultSort": 501170,
         "c_Class": "Elite",
         "_deepnote_index_column": 16395
        },
        {
         "c_Sport": "Swimming",
         "c_Season": 2018,
         "c_Event": "800m Freestyle",
         "c_Gender": "Men",
         "n_DateSort": 20180728,
         "c_Person": "George Barber",
         "c_PersonNatio": "Great Britain",
         "c_NOC": "Great Britain",
         "c_Result": "8:21.56",
         "n_ResultSort": 501560,
         "c_Class": "Elite",
         "_deepnote_index_column": 16401
        },
        {
         "c_Sport": "Swimming",
         "c_Season": 2018,
         "c_Event": "800m Freestyle",
         "c_Gender": "Men",
         "n_DateSort": 20180303,
         "c_Person": "Max Murphy",
         "c_PersonNatio": "Great Britain",
         "c_NOC": "Great Britain",
         "c_Result": "8:22.19",
         "n_ResultSort": 502190,
         "c_Class": "Elite",
         "_deepnote_index_column": 16411
        },
        {
         "c_Sport": "Swimming",
         "c_Season": 2018,
         "c_Event": "800m Freestyle",
         "c_Gender": "Men",
         "n_DateSort": 20180728,
         "c_Person": "Jamie Scholes",
         "c_PersonNatio": "Great Britain",
         "c_NOC": "Great Britain",
         "c_Result": "8:22.45",
         "n_ResultSort": 502450,
         "c_Class": "Elite",
         "_deepnote_index_column": 16417
        },
        {
         "c_Sport": "Swimming",
         "c_Season": 2018,
         "c_Event": "800m Freestyle",
         "c_Gender": "Men",
         "n_DateSort": 20180728,
         "c_Person": "Myles Robinson-Young",
         "c_PersonNatio": "Great Britain",
         "c_NOC": "Great Britain",
         "c_Result": "8:23.31",
         "n_ResultSort": 503310,
         "c_Class": "Elite",
         "_deepnote_index_column": 16435
        },
        {
         "c_Sport": "Swimming",
         "c_Season": 2018,
         "c_Event": "800m Freestyle",
         "c_Gender": "Women",
         "n_DateSort": 20180409,
         "c_Person": "Holly Hibbott",
         "c_PersonNatio": "England",
         "c_NOC": "Great Britain",
         "c_Result": "8:29.05",
         "n_ResultSort": 509050,
         "c_Class": "Elite",
         "_deepnote_index_column": 16472
        },
        {
         "c_Sport": "Swimming",
         "c_Season": 2018,
         "c_Event": "800m Freestyle",
         "c_Gender": "Women",
         "n_DateSort": 20180409,
         "c_Person": "Camilla Hattersley",
         "c_PersonNatio": "Scotland",
         "c_NOC": "Great Britain",
         "c_Result": "8:32.65",
         "n_ResultSort": 512650,
         "c_Class": "Elite",
         "_deepnote_index_column": 16484
        },
        {
         "c_Sport": "Swimming",
         "c_Season": 2018,
         "c_Event": "800m Freestyle",
         "c_Gender": "Women",
         "n_DateSort": 20180408,
         "c_Person": "Jazmin Carlin",
         "c_PersonNatio": "Wales",
         "c_NOC": "Great Britain",
         "c_Result": "8:36.52",
         "n_ResultSort": 516520,
         "c_Class": "Elite",
         "_deepnote_index_column": 16506
        },
        {
         "c_Sport": "Swimming",
         "c_Season": 2018,
         "c_Event": "800m Freestyle",
         "c_Gender": "Women",
         "n_DateSort": 20180725,
         "c_Person": "Polly Holden",
         "c_PersonNatio": "Great Britain",
         "c_NOC": "Great Britain",
         "c_Result": "8:38.73",
         "n_ResultSort": 518730,
         "c_Class": "Elite",
         "_deepnote_index_column": 16524
        },
        {
         "c_Sport": "Swimming",
         "c_Season": 2018,
         "c_Event": "800m Freestyle",
         "c_Gender": "Women",
         "n_DateSort": 20180408,
         "c_Person": "Alice Dearing",
         "c_PersonNatio": "England",
         "c_NOC": "Great Britain",
         "c_Result": "8:40.63",
         "n_ResultSort": 520630,
         "c_Class": "Elite",
         "_deepnote_index_column": 16534
        },
        {
         "c_Sport": "Swimming",
         "c_Season": 2018,
         "c_Event": "800m Freestyle",
         "c_Gender": "Women",
         "n_DateSort": 20180408,
         "c_Person": "Ellena Jones",
         "c_PersonNatio": "Wales",
         "c_NOC": "Great Britain",
         "c_Result": "8:43.89",
         "n_ResultSort": 523890,
         "c_Class": "Elite",
         "_deepnote_index_column": 16567
        },
        {
         "c_Sport": "Swimming",
         "c_Season": 2018,
         "c_Event": "800m Freestyle",
         "c_Gender": "Women",
         "n_DateSort": 20180408,
         "c_Person": "Emily Clarke",
         "c_PersonNatio": "Great Britain",
         "c_NOC": "Great Britain",
         "c_Result": "8:48.42",
         "n_ResultSort": 528420,
         "c_Class": "Elite",
         "_deepnote_index_column": 16635
        },
        {
         "c_Sport": "Swimming",
         "c_Season": 2018,
         "c_Event": "800m Freestyle",
         "c_Gender": "Women",
         "n_DateSort": 20180704,
         "c_Person": "Leah Crisp",
         "c_PersonNatio": "Great Britain",
         "c_NOC": "Great Britain",
         "c_Result": "8:48.83",
         "n_ResultSort": 528830,
         "c_Class": "Elite",
         "_deepnote_index_column": 16641
        },
        {
         "c_Sport": "Swimming",
         "c_Season": 2018,
         "c_Event": "800m Freestyle",
         "c_Gender": "Women",
         "n_DateSort": 20180725,
         "c_Person": "Maisie Mccartney",
         "c_PersonNatio": "Great Britain",
         "c_NOC": "Great Britain",
         "c_Result": "8:48.86",
         "n_ResultSort": 528860,
         "c_Class": "Elite",
         "_deepnote_index_column": 16642
        },
        {
         "c_Sport": "Swimming",
         "c_Season": 2018,
         "c_Event": "800m Freestyle",
         "c_Gender": "Women",
         "n_DateSort": 20180725,
         "c_Person": "Georgia Darwent",
         "c_PersonNatio": "Great Britain",
         "c_NOC": "Great Britain",
         "c_Result": "8:51.12",
         "n_ResultSort": 531120,
         "c_Class": "Elite",
         "_deepnote_index_column": 16689
        },
        {
         "c_Sport": "Swimming",
         "c_Season": 2018,
         "c_Event": "800m Freestyle",
         "c_Gender": "Women",
         "n_DateSort": 20180725,
         "c_Person": "Alisha Hawkins",
         "c_PersonNatio": "Great Britain",
         "c_NOC": "Great Britain",
         "c_Result": "8:51.44",
         "n_ResultSort": 531440,
         "c_Class": "Elite",
         "_deepnote_index_column": 16695
        },
        {
         "c_Sport": "Swimming",
         "c_Season": 2018,
         "c_Event": "800m Freestyle",
         "c_Gender": "Women",
         "n_DateSort": 20180323,
         "c_Person": "Madeleine Crompton",
         "c_PersonNatio": "Great Britain",
         "c_NOC": "Great Britain",
         "c_Result": "8:53.48",
         "n_ResultSort": 533480,
         "c_Class": "Elite",
         "_deepnote_index_column": 16737
        },
        {
         "c_Sport": "Swimming",
         "c_Season": 2018,
         "c_Event": "800m Freestyle",
         "c_Gender": "Women",
         "n_DateSort": 20180731,
         "c_Person": "Elizabeth Boeckman",
         "c_PersonNatio": "Great Britain",
         "c_NOC": "Great Britain",
         "c_Result": "8:54.42",
         "n_ResultSort": 534420,
         "c_Class": "Elite",
         "_deepnote_index_column": 16757
        },
        {
         "c_Sport": "Swimming",
         "c_Season": 2018,
         "c_Event": "800m Freestyle",
         "c_Gender": "Women",
         "n_DateSort": 20180725,
         "c_Person": "Lola Davison",
         "c_PersonNatio": "Great Britain",
         "c_NOC": "Great Britain",
         "c_Result": "8:54.69",
         "n_ResultSort": 534690,
         "c_Class": "Elite",
         "_deepnote_index_column": 16765
        },
        {
         "c_Sport": "Swimming",
         "c_Season": 2018,
         "c_Event": "800m Freestyle",
         "c_Gender": "Women",
         "n_DateSort": 20180614,
         "c_Person": "Meg Finnon",
         "c_PersonNatio": "Great Britain",
         "c_NOC": "Great Britain",
         "c_Result": "8:54.93",
         "n_ResultSort": 534930,
         "c_Class": "Elite",
         "_deepnote_index_column": 16774
        },
        {
         "c_Sport": "Swimming",
         "c_Season": 2018,
         "c_Event": "800m Freestyle",
         "c_Gender": "Women",
         "n_DateSort": 20180725,
         "c_Person": "Nicole Ryan",
         "c_PersonNatio": "Great Britain",
         "c_NOC": "Great Britain",
         "c_Result": "8:55.16",
         "n_ResultSort": 535160,
         "c_Class": "Elite",
         "_deepnote_index_column": 16780
        },
        {
         "c_Sport": "Swimming",
         "c_Season": 2018,
         "c_Event": "800m Freestyle",
         "c_Gender": "Women",
         "n_DateSort": 20180725,
         "c_Person": "Mollie Wright",
         "c_PersonNatio": "Great Britain",
         "c_NOC": "Great Britain",
         "c_Result": "8:56.14",
         "n_ResultSort": 536140,
         "c_Class": "Elite",
         "_deepnote_index_column": 16797
        },
        {
         "c_Sport": "Swimming",
         "c_Season": 2018,
         "c_Event": "800m Freestyle",
         "c_Gender": "Women",
         "n_DateSort": 20180725,
         "c_Person": "Rachel Anderson",
         "c_PersonNatio": "Great Britain",
         "c_NOC": "Great Britain",
         "c_Result": "8:56.71",
         "n_ResultSort": 536710,
         "c_Class": "Elite",
         "_deepnote_index_column": 16807
        },
        {
         "c_Sport": "Swimming",
         "c_Season": 2018,
         "c_Event": "800m Freestyle",
         "c_Gender": "Women",
         "n_DateSort": 20180725,
         "c_Person": "Emilia Sansome",
         "c_PersonNatio": "Great Britain",
         "c_NOC": "Great Britain",
         "c_Result": "8:57.79",
         "n_ResultSort": 537790,
         "c_Class": "Elite",
         "_deepnote_index_column": 16833
        },
        {
         "c_Sport": "Swimming",
         "c_Season": 2018,
         "c_Event": "800m Freestyle",
         "c_Gender": "Women",
         "n_DateSort": 20180426,
         "c_Person": "Philippa O'Brien",
         "c_PersonNatio": "Great Britain",
         "c_NOC": "Great Britain",
         "c_Result": "8:58.13",
         "n_ResultSort": 538130,
         "c_Class": "Elite",
         "_deepnote_index_column": 16843
        },
        {
         "c_Sport": "Swimming",
         "c_Season": 2018,
         "c_Event": "800m Freestyle",
         "c_Gender": "Women",
         "n_DateSort": 20180507,
         "c_Person": "Michaella Glenister",
         "c_PersonNatio": "Great Britain",
         "c_NOC": "Great Britain",
         "c_Result": "8:58.75",
         "n_ResultSort": 538750,
         "c_Class": "Elite",
         "_deepnote_index_column": 16857
        },
        {
         "c_Sport": "Swimming",
         "c_Season": 2018,
         "c_Event": "800m Freestyle",
         "c_Gender": "Women",
         "n_DateSort": 20180725,
         "c_Person": "Freya Colbert",
         "c_PersonNatio": "Great Britain",
         "c_NOC": "Great Britain",
         "c_Result": "8:59.58",
         "n_ResultSort": 539580,
         "c_Class": "Elite",
         "_deepnote_index_column": 16873
        },
        {
         "c_Sport": "Swimming",
         "c_Season": 2018,
         "c_Event": "800m Freestyle",
         "c_Gender": "Women",
         "n_DateSort": 20180302,
         "c_Person": "Aisha Thornton",
         "c_PersonNatio": "Great Britain",
         "c_NOC": "Great Britain",
         "c_Result": "9:00.89",
         "n_ResultSort": 540890,
         "c_Class": "Elite",
         "_deepnote_index_column": 16903
        },
        {
         "c_Sport": "Swimming",
         "c_Season": 2018,
         "c_Event": "800m Freestyle",
         "c_Gender": "Women",
         "n_DateSort": 20180323,
         "c_Person": "Fleur Lewis",
         "c_PersonNatio": "Great Britain",
         "c_NOC": "Great Britain",
         "c_Result": "9:01.59",
         "n_ResultSort": 541590,
         "c_Class": "Elite",
         "_deepnote_index_column": 16918
        },
        {
         "c_Sport": "Swimming",
         "c_Season": 2018,
         "c_Event": "800m Freestyle",
         "c_Gender": "Women",
         "n_DateSort": 20180507,
         "c_Person": "Betsy Wizard",
         "c_PersonNatio": "Great Britain",
         "c_NOC": "Great Britain",
         "c_Result": "9:01.90",
         "n_ResultSort": 541900,
         "c_Class": "Elite",
         "_deepnote_index_column": 16930
        },
        {
         "c_Sport": "Swimming",
         "c_Season": 2018,
         "c_Event": "800m Freestyle",
         "c_Gender": "Women",
         "n_DateSort": 20180331,
         "c_Person": "Iona Macleod",
         "c_PersonNatio": "Great Britain",
         "c_NOC": "Great Britain",
         "c_Result": "9:02.12",
         "n_ResultSort": 542120,
         "c_Class": "Elite",
         "_deepnote_index_column": 16938
        }
       ]
      },
      "text/plain": "        c_Sport  c_Season          c_Event c_Gender  n_DateSort  \\\n39     Swimming      2018  100m Backstroke      Men    20180407   \n47     Swimming      2018  100m Backstroke      Men    20180406   \n60     Swimming      2018  100m Backstroke      Men    20180806   \n62     Swimming      2018  100m Backstroke      Men    20180406   \n63     Swimming      2018  100m Backstroke      Men    20180805   \n...         ...       ...              ...      ...         ...   \n16873  Swimming      2018   800m Freestyle    Women    20180725   \n16903  Swimming      2018   800m Freestyle    Women    20180302   \n16918  Swimming      2018   800m Freestyle    Women    20180323   \n16930  Swimming      2018   800m Freestyle    Women    20180507   \n16938  Swimming      2018   800m Freestyle    Women    20180331   \n\n                   c_Person  c_PersonNatio          c_NOC c_Result  \\\n39     Chris Walker-Hebborn        England  Great Britain    54.23   \n47           Luke Greenbank        England  Great Britain    54.37   \n60            Nicholas Pyle  Great Britain  Great Britain    54.50   \n62          Xavier Castelli          Wales  Great Britain    54.60   \n63          Brodie Williams  Great Britain  Great Britain    54.60   \n...                     ...            ...            ...      ...   \n16873         Freya Colbert  Great Britain  Great Britain  8:59.58   \n16903        Aisha Thornton  Great Britain  Great Britain  9:00.89   \n16918           Fleur Lewis  Great Britain  Great Britain  9:01.59   \n16930          Betsy Wizard  Great Britain  Great Britain  9:01.90   \n16938          Iona Macleod  Great Britain  Great Britain  9:02.12   \n\n       n_ResultSort c_Class  \n39            54230   Elite  \n47            54370   Elite  \n60            54500   Elite  \n62            54600   Elite  \n63            54600   Elite  \n...             ...     ...  \n16873        539580   Elite  \n16903        540890   Elite  \n16918        541590   Elite  \n16930        541900   Elite  \n16938        542120   Elite  \n\n[874 rows x 11 columns]",
      "text/html": "<div>\n<style scoped>\n    .dataframe tbody tr th:only-of-type {\n        vertical-align: middle;\n    }\n\n    .dataframe tbody tr th {\n        vertical-align: top;\n    }\n\n    .dataframe thead th {\n        text-align: right;\n    }\n</style>\n<table border=\"1\" class=\"dataframe\">\n  <thead>\n    <tr style=\"text-align: right;\">\n      <th></th>\n      <th>c_Sport</th>\n      <th>c_Season</th>\n      <th>c_Event</th>\n      <th>c_Gender</th>\n      <th>n_DateSort</th>\n      <th>c_Person</th>\n      <th>c_PersonNatio</th>\n      <th>c_NOC</th>\n      <th>c_Result</th>\n      <th>n_ResultSort</th>\n      <th>c_Class</th>\n    </tr>\n  </thead>\n  <tbody>\n    <tr>\n      <th>39</th>\n      <td>Swimming</td>\n      <td>2018</td>\n      <td>100m Backstroke</td>\n      <td>Men</td>\n      <td>20180407</td>\n      <td>Chris Walker-Hebborn</td>\n      <td>England</td>\n      <td>Great Britain</td>\n      <td>54.23</td>\n      <td>54230</td>\n      <td>Elite</td>\n    </tr>\n    <tr>\n      <th>47</th>\n      <td>Swimming</td>\n      <td>2018</td>\n      <td>100m Backstroke</td>\n      <td>Men</td>\n      <td>20180406</td>\n      <td>Luke Greenbank</td>\n      <td>England</td>\n      <td>Great Britain</td>\n      <td>54.37</td>\n      <td>54370</td>\n      <td>Elite</td>\n    </tr>\n    <tr>\n      <th>60</th>\n      <td>Swimming</td>\n      <td>2018</td>\n      <td>100m Backstroke</td>\n      <td>Men</td>\n      <td>20180806</td>\n      <td>Nicholas Pyle</td>\n      <td>Great Britain</td>\n      <td>Great Britain</td>\n      <td>54.50</td>\n      <td>54500</td>\n      <td>Elite</td>\n    </tr>\n    <tr>\n      <th>62</th>\n      <td>Swimming</td>\n      <td>2018</td>\n      <td>100m Backstroke</td>\n      <td>Men</td>\n      <td>20180406</td>\n      <td>Xavier Castelli</td>\n      <td>Wales</td>\n      <td>Great Britain</td>\n      <td>54.60</td>\n      <td>54600</td>\n      <td>Elite</td>\n    </tr>\n    <tr>\n      <th>63</th>\n      <td>Swimming</td>\n      <td>2018</td>\n      <td>100m Backstroke</td>\n      <td>Men</td>\n      <td>20180805</td>\n      <td>Brodie Williams</td>\n      <td>Great Britain</td>\n      <td>Great Britain</td>\n      <td>54.60</td>\n      <td>54600</td>\n      <td>Elite</td>\n    </tr>\n    <tr>\n      <th>...</th>\n      <td>...</td>\n      <td>...</td>\n      <td>...</td>\n      <td>...</td>\n      <td>...</td>\n      <td>...</td>\n      <td>...</td>\n      <td>...</td>\n      <td>...</td>\n      <td>...</td>\n      <td>...</td>\n    </tr>\n    <tr>\n      <th>16873</th>\n      <td>Swimming</td>\n      <td>2018</td>\n      <td>800m Freestyle</td>\n      <td>Women</td>\n      <td>20180725</td>\n      <td>Freya Colbert</td>\n      <td>Great Britain</td>\n      <td>Great Britain</td>\n      <td>8:59.58</td>\n      <td>539580</td>\n      <td>Elite</td>\n    </tr>\n    <tr>\n      <th>16903</th>\n      <td>Swimming</td>\n      <td>2018</td>\n      <td>800m Freestyle</td>\n      <td>Women</td>\n      <td>20180302</td>\n      <td>Aisha Thornton</td>\n      <td>Great Britain</td>\n      <td>Great Britain</td>\n      <td>9:00.89</td>\n      <td>540890</td>\n      <td>Elite</td>\n    </tr>\n    <tr>\n      <th>16918</th>\n      <td>Swimming</td>\n      <td>2018</td>\n      <td>800m Freestyle</td>\n      <td>Women</td>\n      <td>20180323</td>\n      <td>Fleur Lewis</td>\n      <td>Great Britain</td>\n      <td>Great Britain</td>\n      <td>9:01.59</td>\n      <td>541590</td>\n      <td>Elite</td>\n    </tr>\n    <tr>\n      <th>16930</th>\n      <td>Swimming</td>\n      <td>2018</td>\n      <td>800m Freestyle</td>\n      <td>Women</td>\n      <td>20180507</td>\n      <td>Betsy Wizard</td>\n      <td>Great Britain</td>\n      <td>Great Britain</td>\n      <td>9:01.90</td>\n      <td>541900</td>\n      <td>Elite</td>\n    </tr>\n    <tr>\n      <th>16938</th>\n      <td>Swimming</td>\n      <td>2018</td>\n      <td>800m Freestyle</td>\n      <td>Women</td>\n      <td>20180331</td>\n      <td>Iona Macleod</td>\n      <td>Great Britain</td>\n      <td>Great Britain</td>\n      <td>9:02.12</td>\n      <td>542120</td>\n      <td>Elite</td>\n    </tr>\n  </tbody>\n</table>\n<p>874 rows × 11 columns</p>\n</div>"
     },
     "metadata": {}
    }
   ],
   "execution_count": null
  },
  {
   "cell_type": "markdown",
   "source": "#### 4. Write the filtered dataframe to a new file called ```gb_swimming_psb_data.csv``` within the ```data``` folder.\n> e.g. https://pandas.pydata.org/pandas-docs/stable/reference/api/pandas.DataFrame.to_csv.html",
   "metadata": {
    "tags": [],
    "cell_id": "00004-a32b6cec-950e-4f27-99f9-84c56b795510",
    "deepnote_cell_type": "markdown"
   }
  },
  {
   "cell_type": "code",
   "metadata": {
    "tags": [],
    "cell_id": "00005-770a3f8a-3415-4223-ab03-942c70841370",
    "deepnote_to_be_reexecuted": false,
    "source_hash": "20d0f258",
    "execution_start": 1620379369895,
    "execution_millis": 37,
    "deepnote_cell_type": "code"
   },
   "source": "df.to_csv('./../data/gb_data_output.csv', index=False) ",
   "outputs": [],
   "execution_count": null
  },
  {
   "cell_type": "markdown",
   "source": "<a style='text-decoration:none;line-height:16px;display:flex;color:#5B5B62;padding:10px;justify-content:end;' href='https://deepnote.com?utm_source=created-in-deepnote-cell&projectId=0895def6-8045-418b-b26b-022b302eebd8' target=\"_blank\">\n<img alt='Created in deepnote.com' style='display:inline;max-height:16px;margin:0px;margin-right:7.5px;' src='data:image/svg+xml;base64,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' > </img>\nCreated in <span style='font-weight:600;margin-left:4px;'>Deepnote</span></a>",
   "metadata": {
    "tags": [],
    "created_in_deepnote_cell": true,
    "deepnote_cell_type": "markdown"
   }
  }
 ],
 "nbformat": 4,
 "nbformat_minor": 2,
 "metadata": {
  "orig_nbformat": 2,
  "deepnote_notebook_id": "c2343103-8806-446f-8ff8-e8cb14b7d329",
  "deepnote_execution_queue": [],
  "deepnote": {
   "is_reactive": false
  }
 }
}