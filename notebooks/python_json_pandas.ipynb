{
 "cells": [
  {
   "cell_type": "markdown",
   "source": "## Pandas and JSON\n\n#### 1. Import ```pandas```. \n> [Pandas](https://pandas.pydata.org/docs/) is an open source data analysis tool! It can **[read, write and manipulate](https://pandas.pydata.org/docs/reference/io.html)** most common forms of data (csv, json, excel etc).",
   "metadata": {
    "tags": [],
    "cell_id": "00000-324b7b7c-e65d-4e66-bcd7-26e949111865",
    "deepnote_cell_type": "markdown"
   }
  },
  {
   "cell_type": "code",
   "metadata": {
    "tags": [],
    "output_cleared": false,
    "source_hash": "9b82ee11",
    "execution_millis": 1,
    "cell_id": "00001-15c8af20-9203-4260-b0fb-10f447302d53",
    "deepnote_to_be_reexecuted": false,
    "execution_start": 1619189153411,
    "deepnote_cell_type": "code"
   },
   "source": "import pandas as pd",
   "execution_count": null,
   "outputs": []
  },
  {
   "cell_type": "markdown",
   "source": "#### 2. Read in the **JSON** data using Pandas\n\n> Keep the [Pandas API Reference Guide](https://pandas.pydata.org/docs/reference/index.html#api) handy e.g. to read in JSON data via pandas, scroll down to the bottom of [this ```read_json``` reference](https://pandas.pydata.org/docs/reference/api/pandas.read_json.html#pandas.read_json) for example code.",
   "metadata": {
    "tags": [],
    "cell_id": "00002-6ac14269-6e62-4ffa-bc23-21c87b9edaf9",
    "deepnote_cell_type": "markdown"
   }
  },
  {
   "cell_type": "code",
   "metadata": {
    "tags": [],
    "cell_id": "00003-b0da6c3c-fdeb-4017-bd68-c78377c6050a",
    "deepnote_to_be_reexecuted": false,
    "source_hash": "9d0b1c6",
    "execution_millis": 368,
    "execution_start": 1619189455509,
    "deepnote_cell_type": "code"
   },
   "source": "df = pd.read_json('./../data/swimming_psb_data.json')\ndf",
   "execution_count": null,
   "outputs": [
    {
     "output_type": "execute_result",
     "execution_count": 12,
     "data": {
      "application/vnd.deepnote.dataframe.v2+json": {
       "row_count": 16948,
       "column_count": 11,
       "columns": [
        {
         "name": "c_Sport",
         "dtype": "object",
         "stats": {
          "unique_count": 1,
          "nan_count": 0,
          "categories": [
           {
            "name": "Swimming",
            "count": 16948
           }
          ]
         }
        },
        {
         "name": "c_Season",
         "dtype": "int64",
         "stats": {
          "unique_count": 1,
          "nan_count": 0,
          "min": "2018",
          "max": "2018",
          "histogram": [
           {
            "bin_start": 2017.5,
            "bin_end": 2017.6,
            "count": 0
           },
           {
            "bin_start": 2017.6,
            "bin_end": 2017.7,
            "count": 0
           },
           {
            "bin_start": 2017.7,
            "bin_end": 2017.8,
            "count": 0
           },
           {
            "bin_start": 2017.8,
            "bin_end": 2017.9,
            "count": 0
           },
           {
            "bin_start": 2017.9,
            "bin_end": 2018,
            "count": 0
           },
           {
            "bin_start": 2018,
            "bin_end": 2018.1,
            "count": 16948
           },
           {
            "bin_start": 2018.1,
            "bin_end": 2018.2,
            "count": 0
           },
           {
            "bin_start": 2018.2,
            "bin_end": 2018.3,
            "count": 0
           },
           {
            "bin_start": 2018.3,
            "bin_end": 2018.4,
            "count": 0
           },
           {
            "bin_start": 2018.4,
            "bin_end": 2018.5,
            "count": 0
           }
          ]
         }
        },
        {
         "name": "c_Event",
         "dtype": "object",
         "stats": {
          "unique_count": 20,
          "nan_count": 0,
          "categories": [
           {
            "name": "800m Freestyle",
            "count": 989
           },
           {
            "name": "200m Individual Medley",
            "count": 988
           },
           {
            "name": "18 others",
            "count": 14971
           }
          ]
         }
        },
        {
         "name": "c_Gender",
         "dtype": "object",
         "stats": {
          "unique_count": 3,
          "nan_count": 0,
          "categories": [
           {
            "name": "Men",
            "count": 8458
           },
           {
            "name": "Women",
            "count": 8394
           },
           {
            "name": "Mixed",
            "count": 96
           }
          ]
         }
        },
        {
         "name": "n_DateSort",
         "dtype": "int64",
         "stats": {
          "unique_count": 232,
          "nan_count": 0,
          "min": "20180104",
          "max": "20181223",
          "histogram": [
           {
            "bin_start": 20180104,
            "bin_end": 20180215.9,
            "count": 521
           },
           {
            "bin_start": 20180215.9,
            "bin_end": 20180327.8,
            "count": 844
           },
           {
            "bin_start": 20180327.8,
            "bin_end": 20180439.7,
            "count": 4274
           },
           {
            "bin_start": 20180439.7,
            "bin_end": 20180551.6,
            "count": 1718
           },
           {
            "bin_start": 20180551.6,
            "bin_end": 20180663.5,
            "count": 1210
           },
           {
            "bin_start": 20180663.5,
            "bin_end": 20180775.4,
            "count": 4327
           },
           {
            "bin_start": 20180775.4,
            "bin_end": 20180887.3,
            "count": 2647
           },
           {
            "bin_start": 20180887.3,
            "bin_end": 20180999.2,
            "count": 684
           },
           {
            "bin_start": 20180999.2,
            "bin_end": 20181111.1,
            "count": 413
           },
           {
            "bin_start": 20181111.1,
            "bin_end": 20181223,
            "count": 310
           }
          ]
         }
        },
        {
         "name": "c_Person",
         "dtype": "object"
        },
        {
         "name": "c_PersonNatio",
         "dtype": "object"
        },
        {
         "name": "c_NOC",
         "dtype": "object"
        },
        {
         "name": "c_Result",
         "dtype": "object"
        },
        {
         "name": "n_ResultSort",
         "dtype": "int64"
        },
        {
         "name": "c_Class",
         "dtype": "object"
        },
        {
         "name": "_deepnote_index_column",
         "dtype": "int64"
        }
       ],
       "rows_top": [
        {
         "c_Sport": "Swimming",
         "c_Season": 2018,
         "c_Event": "100m Backstroke",
         "c_Gender": "Men",
         "n_DateSort": 20180809,
         "c_Person": "Ryan Murphy",
         "c_PersonNatio": "United States",
         "c_NOC": "United States",
         "c_Result": "51.94",
         "n_ResultSort": 51940,
         "c_Class": "Elite",
         "_deepnote_index_column": 0
        },
        {
         "c_Sport": "Swimming",
         "c_Season": 2018,
         "c_Event": "100m Backstroke",
         "c_Gender": "Men",
         "n_DateSort": 20180822,
         "c_Person": "Xu Jiayu",
         "c_PersonNatio": "China",
         "c_NOC": "China",
         "c_Result": "52.30",
         "n_ResultSort": 52300,
         "c_Class": "Elite",
         "_deepnote_index_column": 1
        },
        {
         "c_Sport": "Swimming",
         "c_Season": 2018,
         "c_Event": "100m Backstroke",
         "c_Gender": "Men",
         "n_DateSort": 20180806,
         "c_Person": "Kliment Kolesnikov",
         "c_PersonNatio": "Russia",
         "c_NOC": "Russia",
         "c_Result": "52.51",
         "n_ResultSort": 52510,
         "c_Class": "Elite",
         "_deepnote_index_column": 2
        },
        {
         "c_Sport": "Swimming",
         "c_Season": 2018,
         "c_Event": "100m Backstroke",
         "c_Gender": "Men",
         "n_DateSort": 20180819,
         "c_Person": "Ryosuke Irie",
         "c_PersonNatio": "Japan",
         "c_NOC": "Japan",
         "c_Result": "52.53",
         "n_ResultSort": 52530,
         "c_Class": "Elite",
         "_deepnote_index_column": 3
        },
        {
         "c_Sport": "Swimming",
         "c_Season": 2018,
         "c_Event": "100m Backstroke",
         "c_Gender": "Men",
         "n_DateSort": 20180728,
         "c_Person": "Matt Grevers",
         "c_PersonNatio": "United States",
         "c_NOC": "United States",
         "c_Result": "52.55",
         "n_ResultSort": 52550,
         "c_Class": "Elite",
         "_deepnote_index_column": 4
        },
        {
         "c_Sport": "Swimming",
         "c_Season": 2018,
         "c_Event": "100m Backstroke",
         "c_Gender": "Men",
         "n_DateSort": 20180809,
         "c_Person": "Evgeniy Rylov",
         "c_PersonNatio": "Russia",
         "c_NOC": "Russia",
         "c_Result": "52.66",
         "n_ResultSort": 52660,
         "c_Class": "Elite",
         "_deepnote_index_column": 5
        },
        {
         "c_Sport": "Swimming",
         "c_Season": 2018,
         "c_Event": "100m Backstroke",
         "c_Gender": "Men",
         "n_DateSort": 20180810,
         "c_Person": "Mitch Larkin",
         "c_PersonNatio": "Australia",
         "c_NOC": "Australia",
         "c_Result": "52.88",
         "n_ResultSort": 52880,
         "c_Class": "Elite",
         "_deepnote_index_column": 6
        },
        {
         "c_Sport": "Swimming",
         "c_Season": 2018,
         "c_Event": "100m Backstroke",
         "c_Gender": "Men",
         "n_DateSort": 20180806,
         "c_Person": "Grigoriy Tarasevich",
         "c_PersonNatio": "Russia",
         "c_NOC": "Russia",
         "c_Result": "53.22",
         "n_ResultSort": 53220,
         "c_Class": "Elite",
         "_deepnote_index_column": 7
        },
        {
         "c_Sport": "Swimming",
         "c_Season": 2018,
         "c_Event": "100m Backstroke",
         "c_Gender": "Men",
         "n_DateSort": 20180728,
         "c_Person": "Justin Ress",
         "c_PersonNatio": "United States",
         "c_NOC": "United States",
         "c_Result": "53.26",
         "n_ResultSort": 53260,
         "c_Class": "Elite",
         "_deepnote_index_column": 8
        },
        {
         "c_Sport": "Swimming",
         "c_Season": 2018,
         "c_Event": "100m Backstroke",
         "c_Gender": "Men",
         "n_DateSort": 20180527,
         "c_Person": "Robert Glinta",
         "c_PersonNatio": "Romania",
         "c_NOC": "Romania",
         "c_Result": "53.32",
         "n_ResultSort": 53320,
         "c_Class": "Elite",
         "_deepnote_index_column": 9
        },
        {
         "c_Sport": "Swimming",
         "c_Season": 2018,
         "c_Event": "100m Backstroke",
         "c_Gender": "Men",
         "n_DateSort": 20180805,
         "c_Person": "Simone Sabbioni",
         "c_PersonNatio": "Italy",
         "c_NOC": "Italy",
         "c_Result": "53.39",
         "n_ResultSort": 53390,
         "c_Class": "Elite",
         "_deepnote_index_column": 10
        },
        {
         "c_Sport": "Swimming",
         "c_Season": 2018,
         "c_Event": "100m Backstroke",
         "c_Gender": "Men",
         "n_DateSort": 20180705,
         "c_Person": "Daniel-Cristian Martin",
         "c_PersonNatio": "Romania",
         "c_NOC": "Romania",
         "c_Result": "53.52",
         "n_ResultSort": 53520,
         "c_Class": "Elite",
         "_deepnote_index_column": 11
        },
        {
         "c_Sport": "Swimming",
         "c_Season": 2018,
         "c_Event": "100m Backstroke",
         "c_Gender": "Men",
         "n_DateSort": 20180810,
         "c_Person": "Michael Andrew",
         "c_PersonNatio": "United States",
         "c_NOC": "United States",
         "c_Result": "53.55",
         "n_ResultSort": 53550,
         "c_Class": "Elite",
         "_deepnote_index_column": 12
        },
        {
         "c_Sport": "Swimming",
         "c_Season": 2018,
         "c_Event": "100m Backstroke",
         "c_Gender": "Men",
         "n_DateSort": 20180403,
         "c_Person": "Junya Koga",
         "c_PersonNatio": "Japan",
         "c_NOC": "Japan",
         "c_Result": "53.60",
         "n_ResultSort": 53600,
         "c_Class": "Elite",
         "_deepnote_index_column": 13
        },
        {
         "c_Sport": "Swimming",
         "c_Season": 2018,
         "c_Event": "100m Backstroke",
         "c_Gender": "Men",
         "n_DateSort": 20180423,
         "c_Person": "Nikita Ulyanov",
         "c_PersonNatio": "Russia",
         "c_NOC": "Russia",
         "c_Result": "53.60",
         "n_ResultSort": 53600,
         "c_Class": "Elite",
         "_deepnote_index_column": 14
        },
        {
         "c_Sport": "Swimming",
         "c_Season": 2018,
         "c_Event": "100m Backstroke",
         "c_Gender": "Men",
         "n_DateSort": 20181008,
         "c_Person": "Thomas Ceccon",
         "c_PersonNatio": "Italy",
         "c_NOC": "Italy",
         "c_Result": "53.65",
         "n_ResultSort": 53650,
         "c_Class": "Elite",
         "_deepnote_index_column": 15
        },
        {
         "c_Sport": "Swimming",
         "c_Season": 2018,
         "c_Event": "100m Backstroke",
         "c_Gender": "Men",
         "n_DateSort": 20180713,
         "c_Person": "Mark Nikolaev",
         "c_PersonNatio": "Russia",
         "c_NOC": "Russia",
         "c_Result": "53.68",
         "n_ResultSort": 53680,
         "c_Class": "Elite",
         "_deepnote_index_column": 16
        },
        {
         "c_Sport": "Swimming",
         "c_Season": 2018,
         "c_Event": "100m Backstroke",
         "c_Gender": "Men",
         "n_DateSort": 20180806,
         "c_Person": "Apostolos Christou",
         "c_PersonNatio": "Greece",
         "c_NOC": "Greece",
         "c_Result": "53.72",
         "n_ResultSort": 53720,
         "c_Class": "Elite",
         "_deepnote_index_column": 17
        },
        {
         "c_Sport": "Swimming",
         "c_Season": 2018,
         "c_Event": "100m Backstroke",
         "c_Gender": "Men",
         "n_DateSort": 20180809,
         "c_Person": "Gabriel Fantoni",
         "c_PersonNatio": "Brazil",
         "c_NOC": "Brazil",
         "c_Result": "53.72",
         "n_ResultSort": 53720,
         "c_Class": "Elite",
         "_deepnote_index_column": 18
        },
        {
         "c_Sport": "Swimming",
         "c_Season": 2018,
         "c_Event": "100m Backstroke",
         "c_Gender": "Men",
         "n_DateSort": 20180525,
         "c_Person": "Kacper Stokowski",
         "c_PersonNatio": "Poland",
         "c_NOC": "Poland",
         "c_Result": "53.82",
         "n_ResultSort": 53820,
         "c_Class": "Elite",
         "_deepnote_index_column": 19
        },
        {
         "c_Sport": "Swimming",
         "c_Season": 2018,
         "c_Event": "100m Backstroke",
         "c_Gender": "Men",
         "n_DateSort": 20180728,
         "c_Person": "Bryce Mefford",
         "c_PersonNatio": "United States",
         "c_NOC": "United States",
         "c_Result": "53.84",
         "n_ResultSort": 53840,
         "c_Class": "Elite",
         "_deepnote_index_column": 20
        },
        {
         "c_Sport": "Swimming",
         "c_Season": 2018,
         "c_Event": "100m Backstroke",
         "c_Gender": "Men",
         "n_DateSort": 20180405,
         "c_Person": "Markus Thormeyer",
         "c_PersonNatio": "Canada",
         "c_NOC": "Canada",
         "c_Result": "53.86",
         "n_ResultSort": 53860,
         "c_Class": "Elite",
         "_deepnote_index_column": 21
        },
        {
         "c_Sport": "Swimming",
         "c_Season": 2018,
         "c_Event": "100m Backstroke",
         "c_Gender": "Men",
         "n_DateSort": 20180630,
         "c_Person": "Bradley Woodward",
         "c_PersonNatio": "Australia",
         "c_NOC": "Australia",
         "c_Result": "53.89",
         "n_ResultSort": 53890,
         "c_Class": "Elite",
         "_deepnote_index_column": 22
        },
        {
         "c_Sport": "Swimming",
         "c_Season": 2018,
         "c_Event": "100m Backstroke",
         "c_Gender": "Men",
         "n_DateSort": 20180810,
         "c_Person": "Javier Acevedo",
         "c_PersonNatio": "Canada",
         "c_NOC": "Canada",
         "c_Result": "53.90",
         "n_ResultSort": 53900,
         "c_Class": "Elite",
         "_deepnote_index_column": 23
        },
        {
         "c_Sport": "Swimming",
         "c_Season": 2018,
         "c_Event": "100m Backstroke",
         "c_Gender": "Men",
         "n_DateSort": 20181130,
         "c_Person": "Christopher Reid",
         "c_PersonNatio": "South Africa",
         "c_NOC": "South Africa",
         "c_Result": "53.92",
         "n_ResultSort": 53920,
         "c_Class": "Elite",
         "_deepnote_index_column": 24
        },
        {
         "c_Sport": "Swimming",
         "c_Season": 2018,
         "c_Event": "100m Backstroke",
         "c_Gender": "Men",
         "n_DateSort": 20180806,
         "c_Person": "Christian Diener",
         "c_PersonNatio": "Germany",
         "c_NOC": "Germany",
         "c_Result": "53.92",
         "n_ResultSort": 53920,
         "c_Class": "Elite",
         "_deepnote_index_column": 25
        },
        {
         "c_Sport": "Swimming",
         "c_Season": 2018,
         "c_Event": "100m Backstroke",
         "c_Gender": "Men",
         "n_DateSort": 20180303,
         "c_Person": "Jacob Pebley",
         "c_PersonNatio": "United States",
         "c_NOC": "United States",
         "c_Result": "53.93",
         "n_ResultSort": 53930,
         "c_Class": "Elite",
         "_deepnote_index_column": 26
        },
        {
         "c_Sport": "Swimming",
         "c_Season": 2018,
         "c_Event": "100m Backstroke",
         "c_Gender": "Men",
         "n_DateSort": 20180407,
         "c_Person": "Shane Ryan",
         "c_PersonNatio": "Ireland",
         "c_NOC": "Ireland",
         "c_Result": "53.96",
         "n_ResultSort": 53960,
         "c_Class": "Elite",
         "_deepnote_index_column": 27
        },
        {
         "c_Sport": "Swimming",
         "c_Season": 2018,
         "c_Event": "100m Backstroke",
         "c_Gender": "Men",
         "n_DateSort": 20180630,
         "c_Person": "Tristan Hollard",
         "c_PersonNatio": "Australia",
         "c_NOC": "Australia",
         "c_Result": "53.98",
         "n_ResultSort": 53980,
         "c_Class": "Elite",
         "_deepnote_index_column": 28
        },
        {
         "c_Sport": "Swimming",
         "c_Season": 2018,
         "c_Event": "100m Backstroke",
         "c_Gender": "Men",
         "n_DateSort": 20180427,
         "c_Person": "Yakov Toumarkin",
         "c_PersonNatio": "Israel",
         "c_NOC": "Israel",
         "c_Result": "54.00",
         "n_ResultSort": 54000,
         "c_Class": "Elite",
         "_deepnote_index_column": 29
        },
        {
         "c_Sport": "Swimming",
         "c_Season": 2018,
         "c_Event": "100m Backstroke",
         "c_Gender": "Men",
         "n_DateSort": 20180728,
         "c_Person": "Daniel Carr",
         "c_PersonNatio": "United States",
         "c_NOC": "United States",
         "c_Result": "54.01",
         "n_ResultSort": 54010,
         "c_Class": "Elite",
         "_deepnote_index_column": 30
        },
        {
         "c_Sport": "Swimming",
         "c_Season": 2018,
         "c_Event": "100m Backstroke",
         "c_Gender": "Men",
         "n_DateSort": 20180728,
         "c_Person": "Coleman Stewart",
         "c_PersonNatio": "United States",
         "c_NOC": "United States",
         "c_Result": "54.03",
         "n_ResultSort": 54030,
         "c_Class": "Elite",
         "_deepnote_index_column": 31
        },
        {
         "c_Sport": "Swimming",
         "c_Season": 2018,
         "c_Event": "100m Backstroke",
         "c_Gender": "Men",
         "n_DateSort": 20181221,
         "c_Person": "Richárd Bohus",
         "c_PersonNatio": "Hungary",
         "c_NOC": "Hungary",
         "c_Result": "54.05",
         "n_ResultSort": 54050,
         "c_Class": "Elite",
         "_deepnote_index_column": 32
        },
        {
         "c_Sport": "Swimming",
         "c_Season": 2018,
         "c_Event": "100m Backstroke",
         "c_Gender": "Men",
         "n_DateSort": 20181107,
         "c_Person": "Guilherme Guido",
         "c_PersonNatio": "Brazil",
         "c_NOC": "Brazil",
         "c_Result": "54.06",
         "n_ResultSort": 54060,
         "c_Class": "Elite",
         "_deepnote_index_column": 33
        },
        {
         "c_Sport": "Swimming",
         "c_Season": 2018,
         "c_Event": "100m Backstroke",
         "c_Gender": "Men",
         "n_DateSort": 20180728,
         "c_Person": "Austin Katz",
         "c_PersonNatio": "United States",
         "c_NOC": "United States",
         "c_Result": "54.06",
         "n_ResultSort": 54060,
         "c_Class": "Elite",
         "_deepnote_index_column": 34
        },
        {
         "c_Sport": "Swimming",
         "c_Season": 2018,
         "c_Event": "100m Backstroke",
         "c_Gender": "Men",
         "n_DateSort": 20180404,
         "c_Person": "Masaki Kaneko",
         "c_PersonNatio": "Japan",
         "c_NOC": "Japan",
         "c_Result": "54.10",
         "n_ResultSort": 54100,
         "c_Class": "Elite",
         "_deepnote_index_column": 35
        },
        {
         "c_Sport": "Swimming",
         "c_Season": 2018,
         "c_Event": "100m Backstroke",
         "c_Gender": "Men",
         "n_DateSort": 20180413,
         "c_Person": "Li Guangyuan",
         "c_PersonNatio": "China",
         "c_NOC": "China",
         "c_Result": "54.13",
         "n_ResultSort": 54130,
         "c_Class": "Elite",
         "_deepnote_index_column": 36
        },
        {
         "c_Sport": "Swimming",
         "c_Season": 2018,
         "c_Event": "100m Backstroke",
         "c_Gender": "Men",
         "n_DateSort": 20180427,
         "c_Person": "Lee Ju-Ho",
         "c_PersonNatio": "Korea",
         "c_NOC": "Korea",
         "c_Result": "54.17",
         "n_ResultSort": 54170,
         "c_Class": "Elite",
         "_deepnote_index_column": 37
        },
        {
         "c_Sport": "Swimming",
         "c_Season": 2018,
         "c_Event": "100m Backstroke",
         "c_Gender": "Men",
         "n_DateSort": 20180728,
         "c_Person": "Dean Farris",
         "c_PersonNatio": "United States",
         "c_NOC": "United States",
         "c_Result": "54.21",
         "n_ResultSort": 54210,
         "c_Class": "Elite",
         "_deepnote_index_column": 38
        },
        {
         "c_Sport": "Swimming",
         "c_Season": 2018,
         "c_Event": "100m Backstroke",
         "c_Gender": "Men",
         "n_DateSort": 20180407,
         "c_Person": "Chris Walker-Hebborn",
         "c_PersonNatio": "England",
         "c_NOC": "Great Britain",
         "c_Result": "54.23",
         "n_ResultSort": 54230,
         "c_Class": "Elite",
         "_deepnote_index_column": 39
        },
        {
         "c_Sport": "Swimming",
         "c_Season": 2018,
         "c_Event": "100m Backstroke",
         "c_Gender": "Men",
         "n_DateSort": 20180805,
         "c_Person": "Jan-Philip Glania",
         "c_PersonNatio": "Germany",
         "c_NOC": "Germany",
         "c_Result": "54.24",
         "n_ResultSort": 54240,
         "c_Class": "Elite",
         "_deepnote_index_column": 40
        },
        {
         "c_Sport": "Swimming",
         "c_Season": 2018,
         "c_Event": "100m Backstroke",
         "c_Gender": "Men",
         "n_DateSort": 20180403,
         "c_Person": "Junya Hasegawa",
         "c_PersonNatio": "Japan",
         "c_NOC": "Japan",
         "c_Result": "54.24",
         "n_ResultSort": 54240,
         "c_Class": "Elite",
         "_deepnote_index_column": 41
        },
        {
         "c_Sport": "Swimming",
         "c_Season": 2018,
         "c_Event": "100m Backstroke",
         "c_Gender": "Men",
         "n_DateSort": 20180813,
         "c_Person": "Matteo Milli",
         "c_PersonNatio": "Italy",
         "c_NOC": "Italy",
         "c_Result": "54.25",
         "n_ResultSort": 54250,
         "c_Class": "Elite",
         "_deepnote_index_column": 42
        },
        {
         "c_Sport": "Swimming",
         "c_Season": 2018,
         "c_Event": "100m Backstroke",
         "c_Gender": "Men",
         "n_DateSort": 20180427,
         "c_Person": "Park Seon-Kwan",
         "c_PersonNatio": "Korea",
         "c_NOC": "Korea",
         "c_Result": "54.25",
         "n_ResultSort": 54250,
         "c_Class": "Elite",
         "_deepnote_index_column": 43
        },
        {
         "c_Sport": "Swimming",
         "c_Season": 2018,
         "c_Event": "100m Backstroke",
         "c_Gender": "Men",
         "n_DateSort": 20180202,
         "c_Person": "Mikita Tsmyh",
         "c_PersonNatio": "Belarus",
         "c_NOC": "Belarus",
         "c_Result": "54.27",
         "n_ResultSort": 54270,
         "c_Class": "Elite",
         "_deepnote_index_column": 44
        }
       ],
       "rows_bottom": [
        {
         "c_Sport": "Swimming",
         "c_Season": 2018,
         "c_Event": "800m Freestyle",
         "c_Gender": "Women",
         "n_DateSort": 20180302,
         "c_Person": "Aisha Thornton",
         "c_PersonNatio": "Great Britain",
         "c_NOC": "Great Britain",
         "c_Result": "9:00.89",
         "n_ResultSort": 540890,
         "c_Class": "Elite",
         "_deepnote_index_column": 16903
        },
        {
         "c_Sport": "Swimming",
         "c_Season": 2018,
         "c_Event": "800m Freestyle",
         "c_Gender": "Women",
         "n_DateSort": 20180511,
         "c_Person": "Karina Abrosimova",
         "c_PersonNatio": "Russia",
         "c_NOC": "Russia",
         "c_Result": "9:00.94",
         "n_ResultSort": 540940,
         "c_Class": "Elite",
         "_deepnote_index_column": 16904
        },
        {
         "c_Sport": "Swimming",
         "c_Season": 2018,
         "c_Event": "800m Freestyle",
         "c_Gender": "Women",
         "n_DateSort": 20180528,
         "c_Person": "Samantha Arevalo",
         "c_PersonNatio": "Ecuador",
         "c_NOC": "Ecuador",
         "c_Result": "9:00.95",
         "n_ResultSort": 540950,
         "c_Class": "Elite",
         "_deepnote_index_column": 16905
        },
        {
         "c_Sport": "Swimming",
         "c_Season": 2018,
         "c_Event": "800m Freestyle",
         "c_Gender": "Women",
         "n_DateSort": 20181128,
         "c_Person": "Merve Tuncel",
         "c_PersonNatio": "Turkey",
         "c_NOC": "Turkey",
         "c_Result": "9:00.97",
         "n_ResultSort": 540970,
         "c_Class": "Elite",
         "_deepnote_index_column": 16906
        },
        {
         "c_Sport": "Swimming",
         "c_Season": 2018,
         "c_Event": "800m Freestyle",
         "c_Gender": "Women",
         "n_DateSort": 20180908,
         "c_Person": "Hiroko Ohtsuka",
         "c_PersonNatio": "Japan",
         "c_NOC": "Japan",
         "c_Result": "9:01.02",
         "n_ResultSort": 541020,
         "c_Class": "Elite",
         "_deepnote_index_column": 16907
        },
        {
         "c_Sport": "Swimming",
         "c_Season": 2018,
         "c_Event": "800m Freestyle",
         "c_Gender": "Women",
         "n_DateSort": 20180813,
         "c_Person": "Ilaria Murzilli",
         "c_PersonNatio": "Italy",
         "c_NOC": "Italy",
         "c_Result": "9:01.04",
         "n_ResultSort": 541040,
         "c_Class": "Elite",
         "_deepnote_index_column": 16908
        },
        {
         "c_Sport": "Swimming",
         "c_Season": 2018,
         "c_Event": "800m Freestyle",
         "c_Gender": "Women",
         "n_DateSort": 20180720,
         "c_Person": "Antonia Stenbrock",
         "c_PersonNatio": "Germany",
         "c_NOC": "Germany",
         "c_Result": "9:01.09",
         "n_ResultSort": 541090,
         "c_Class": "Elite",
         "_deepnote_index_column": 16909
        },
        {
         "c_Sport": "Swimming",
         "c_Season": 2018,
         "c_Event": "800m Freestyle",
         "c_Gender": "Women",
         "n_DateSort": 20180413,
         "c_Person": "Li Jiaqi",
         "c_PersonNatio": "China",
         "c_NOC": "China",
         "c_Result": "9:01.10",
         "n_ResultSort": 541100,
         "c_Class": "Elite",
         "_deepnote_index_column": 16910
        },
        {
         "c_Sport": "Swimming",
         "c_Season": 2018,
         "c_Event": "800m Freestyle",
         "c_Gender": "Women",
         "n_DateSort": 20180813,
         "c_Person": "Greta Bonada",
         "c_PersonNatio": "Italy",
         "c_NOC": "Italy",
         "c_Result": "9:01.17",
         "n_ResultSort": 541170,
         "c_Class": "Elite",
         "_deepnote_index_column": 16911
        },
        {
         "c_Sport": "Swimming",
         "c_Season": 2018,
         "c_Event": "800m Freestyle",
         "c_Gender": "Women",
         "n_DateSort": 20180915,
         "c_Person": "Li Xinyu",
         "c_PersonNatio": "China",
         "c_NOC": "China",
         "c_Result": "9:01.28",
         "n_ResultSort": 541280,
         "c_Class": "Elite",
         "_deepnote_index_column": 16912
        },
        {
         "c_Sport": "Swimming",
         "c_Season": 2018,
         "c_Event": "800m Freestyle",
         "c_Gender": "Women",
         "n_DateSort": 20180415,
         "c_Person": "Marij van der Mast",
         "c_PersonNatio": "Netherlands",
         "c_NOC": "Netherlands",
         "c_Result": "9:01.35",
         "n_ResultSort": 541350,
         "c_Class": "Elite",
         "_deepnote_index_column": 16913
        },
        {
         "c_Sport": "Swimming",
         "c_Season": 2018,
         "c_Event": "800m Freestyle",
         "c_Gender": "Women",
         "n_DateSort": 20180318,
         "c_Person": "Akiko Moritomo",
         "c_PersonNatio": "Japan",
         "c_NOC": "Japan",
         "c_Result": "9:01.39",
         "n_ResultSort": 541390,
         "c_Class": "Elite",
         "_deepnote_index_column": 16914
        },
        {
         "c_Sport": "Swimming",
         "c_Season": 2018,
         "c_Event": "800m Freestyle",
         "c_Gender": "Women",
         "n_DateSort": 20180602,
         "c_Person": "Logan Shiller",
         "c_PersonNatio": "United States",
         "c_NOC": "United States",
         "c_Result": "9:01.44",
         "n_ResultSort": 541440,
         "c_Class": "Elite",
         "_deepnote_index_column": 16915
        },
        {
         "c_Sport": "Swimming",
         "c_Season": 2018,
         "c_Event": "800m Freestyle",
         "c_Gender": "Women",
         "n_DateSort": 20180813,
         "c_Person": "Anna Chiara Mascolo",
         "c_PersonNatio": "Italy",
         "c_NOC": "Italy",
         "c_Result": "9:01.45",
         "n_ResultSort": 541450,
         "c_Class": "Elite",
         "_deepnote_index_column": 16916
        },
        {
         "c_Sport": "Swimming",
         "c_Season": 2018,
         "c_Event": "800m Freestyle",
         "c_Gender": "Women",
         "n_DateSort": 20180418,
         "c_Person": "Paris Cutler",
         "c_PersonNatio": "New Zealand",
         "c_NOC": "New Zealand",
         "c_Result": "9:01.46",
         "n_ResultSort": 541460,
         "c_Class": "Elite",
         "_deepnote_index_column": 16917
        },
        {
         "c_Sport": "Swimming",
         "c_Season": 2018,
         "c_Event": "800m Freestyle",
         "c_Gender": "Women",
         "n_DateSort": 20180323,
         "c_Person": "Fleur Lewis",
         "c_PersonNatio": "Great Britain",
         "c_NOC": "Great Britain",
         "c_Result": "9:01.59",
         "n_ResultSort": 541590,
         "c_Class": "Elite",
         "_deepnote_index_column": 16918
        },
        {
         "c_Sport": "Swimming",
         "c_Season": 2018,
         "c_Event": "800m Freestyle",
         "c_Gender": "Women",
         "n_DateSort": 20180410,
         "c_Person": "Barbara Pozzobon",
         "c_PersonNatio": "Italy",
         "c_NOC": "Italy",
         "c_Result": "9:01.64",
         "n_ResultSort": 541640,
         "c_Class": "Elite",
         "_deepnote_index_column": 16919
        },
        {
         "c_Sport": "Swimming",
         "c_Season": 2018,
         "c_Event": "800m Freestyle",
         "c_Gender": "Women",
         "n_DateSort": 20180913,
         "c_Person": "Souad Cherouati",
         "c_PersonNatio": "Algeria",
         "c_NOC": "Algeria",
         "c_Result": "9:01.68",
         "n_ResultSort": 541680,
         "c_Class": "Elite",
         "_deepnote_index_column": 16920
        },
        {
         "c_Sport": "Swimming",
         "c_Season": 2018,
         "c_Event": "800m Freestyle",
         "c_Gender": "Women",
         "n_DateSort": 20180113,
         "c_Person": "Anna Kalandadze",
         "c_PersonNatio": "United States",
         "c_NOC": "United States",
         "c_Result": "9:01.71",
         "n_ResultSort": 541710,
         "c_Class": "Elite",
         "_deepnote_index_column": 16921
        },
        {
         "c_Sport": "Swimming",
         "c_Season": 2018,
         "c_Event": "800m Freestyle",
         "c_Gender": "Women",
         "n_DateSort": 20180520,
         "c_Person": "Emily Ilgenfritz",
         "c_PersonNatio": "United States",
         "c_NOC": "United States",
         "c_Result": "9:01.71",
         "n_ResultSort": 541710,
         "c_Class": "Elite",
         "_deepnote_index_column": 16922
        },
        {
         "c_Sport": "Swimming",
         "c_Season": 2018,
         "c_Event": "800m Freestyle",
         "c_Gender": "Women",
         "n_DateSort": 20180427,
         "c_Person": "Lim Hyun Ha",
         "c_PersonNatio": "Korea",
         "c_NOC": "Korea",
         "c_Result": "9:01.72",
         "n_ResultSort": 541720,
         "c_Class": "Elite",
         "_deepnote_index_column": 16923
        },
        {
         "c_Sport": "Swimming",
         "c_Season": 2018,
         "c_Event": "800m Freestyle",
         "c_Gender": "Women",
         "n_DateSort": 20180519,
         "c_Person": "Kyla Ross",
         "c_PersonNatio": "Canada",
         "c_NOC": "Canada",
         "c_Result": "9:01.76",
         "n_ResultSort": 541760,
         "c_Class": "Elite",
         "_deepnote_index_column": 16924
        },
        {
         "c_Sport": "Swimming",
         "c_Season": 2018,
         "c_Event": "800m Freestyle",
         "c_Gender": "Women",
         "n_DateSort": 20180408,
         "c_Person": "Christine Ekman",
         "c_PersonNatio": "Sweden",
         "c_NOC": "Sweden",
         "c_Result": "9:01.80",
         "n_ResultSort": 541800,
         "c_Class": "Elite",
         "_deepnote_index_column": 16925
        },
        {
         "c_Sport": "Swimming",
         "c_Season": 2018,
         "c_Event": "800m Freestyle",
         "c_Gender": "Women",
         "n_DateSort": 20180728,
         "c_Person": "Karling Hemstreet",
         "c_PersonNatio": "United States",
         "c_NOC": "United States",
         "c_Result": "9:01.83",
         "n_ResultSort": 541830,
         "c_Class": "Elite",
         "_deepnote_index_column": 16926
        },
        {
         "c_Sport": "Swimming",
         "c_Season": 2018,
         "c_Event": "800m Freestyle",
         "c_Gender": "Women",
         "n_DateSort": 20180818,
         "c_Person": "Moeka Hirata",
         "c_PersonNatio": "Japan",
         "c_NOC": "Japan",
         "c_Result": "9:01.84",
         "n_ResultSort": 541840,
         "c_Class": "Elite",
         "_deepnote_index_column": 16927
        },
        {
         "c_Sport": "Swimming",
         "c_Season": 2018,
         "c_Event": "800m Freestyle",
         "c_Gender": "Women",
         "n_DateSort": 20180711,
         "c_Person": "Margarita Varulnikova",
         "c_PersonNatio": "Russia",
         "c_NOC": "Russia",
         "c_Result": "9:01.84",
         "n_ResultSort": 541840,
         "c_Class": "Elite",
         "_deepnote_index_column": 16928
        },
        {
         "c_Sport": "Swimming",
         "c_Season": 2018,
         "c_Event": "800m Freestyle",
         "c_Gender": "Women",
         "n_DateSort": 20180526,
         "c_Person": "Ecem Donmez",
         "c_PersonNatio": "Turkey",
         "c_NOC": "Turkey",
         "c_Result": "9:01.85",
         "n_ResultSort": 541850,
         "c_Class": "Elite",
         "_deepnote_index_column": 16929
        },
        {
         "c_Sport": "Swimming",
         "c_Season": 2018,
         "c_Event": "800m Freestyle",
         "c_Gender": "Women",
         "n_DateSort": 20180507,
         "c_Person": "Betsy Wizard",
         "c_PersonNatio": "Great Britain",
         "c_NOC": "Great Britain",
         "c_Result": "9:01.90",
         "n_ResultSort": 541900,
         "c_Class": "Elite",
         "_deepnote_index_column": 16930
        },
        {
         "c_Sport": "Swimming",
         "c_Season": 2018,
         "c_Event": "800m Freestyle",
         "c_Gender": "Women",
         "n_DateSort": 20180525,
         "c_Person": "Emilia Colti Dumitrescu",
         "c_PersonNatio": "Romania",
         "c_NOC": "Romania",
         "c_Result": "9:02.00",
         "n_ResultSort": 542000,
         "c_Class": "Elite",
         "_deepnote_index_column": 16931
        },
        {
         "c_Sport": "Swimming",
         "c_Season": 2018,
         "c_Event": "800m Freestyle",
         "c_Gender": "Women",
         "n_DateSort": 20180818,
         "c_Person": "Nanami Kouchi",
         "c_PersonNatio": "Japan",
         "c_NOC": "Japan",
         "c_Result": "9:02.02",
         "n_ResultSort": 542020,
         "c_Class": "Elite",
         "_deepnote_index_column": 16932
        },
        {
         "c_Sport": "Swimming",
         "c_Season": 2018,
         "c_Event": "800m Freestyle",
         "c_Gender": "Women",
         "n_DateSort": 20180622,
         "c_Person": "Yang Yaan",
         "c_PersonNatio": "China",
         "c_NOC": "China",
         "c_Result": "9:02.03",
         "n_ResultSort": 542030,
         "c_Class": "Elite",
         "_deepnote_index_column": 16933
        },
        {
         "c_Sport": "Swimming",
         "c_Season": 2018,
         "c_Event": "800m Freestyle",
         "c_Gender": "Women",
         "n_DateSort": 20180524,
         "c_Person": "Julia Adamczyk",
         "c_PersonNatio": "Poland",
         "c_NOC": "Poland",
         "c_Result": "9:02.04",
         "n_ResultSort": 542040,
         "c_Class": "Elite",
         "_deepnote_index_column": 16934
        },
        {
         "c_Sport": "Swimming",
         "c_Season": 2018,
         "c_Event": "800m Freestyle",
         "c_Gender": "Women",
         "n_DateSort": 20180530,
         "c_Person": "Mira Szimcsák",
         "c_PersonNatio": "Hungary",
         "c_NOC": "Hungary",
         "c_Result": "9:02.09",
         "n_ResultSort": 542090,
         "c_Class": "Elite",
         "_deepnote_index_column": 16935
        },
        {
         "c_Sport": "Swimming",
         "c_Season": 2018,
         "c_Event": "800m Freestyle",
         "c_Gender": "Women",
         "n_DateSort": 20180423,
         "c_Person": "Victoria Bushell",
         "c_PersonNatio": "Australia",
         "c_NOC": "Australia",
         "c_Result": "9:02.10",
         "n_ResultSort": 542100,
         "c_Class": "Elite",
         "_deepnote_index_column": 16936
        },
        {
         "c_Sport": "Swimming",
         "c_Season": 2018,
         "c_Event": "800m Freestyle",
         "c_Gender": "Women",
         "n_DateSort": 20180420,
         "c_Person": "Anastasia Basalduk",
         "c_PersonNatio": "Russia",
         "c_NOC": "Russia",
         "c_Result": "9:02.10",
         "n_ResultSort": 542100,
         "c_Class": "Elite",
         "_deepnote_index_column": 16937
        },
        {
         "c_Sport": "Swimming",
         "c_Season": 2018,
         "c_Event": "800m Freestyle",
         "c_Gender": "Women",
         "n_DateSort": 20180331,
         "c_Person": "Iona Macleod",
         "c_PersonNatio": "Great Britain",
         "c_NOC": "Great Britain",
         "c_Result": "9:02.12",
         "n_ResultSort": 542120,
         "c_Class": "Elite",
         "_deepnote_index_column": 16938
        },
        {
         "c_Sport": "Swimming",
         "c_Season": 2018,
         "c_Event": "800m Freestyle",
         "c_Gender": "Women",
         "n_DateSort": 20180702,
         "c_Person": "Monique King",
         "c_PersonNatio": "New Zealand",
         "c_NOC": "New Zealand",
         "c_Result": "9:02.19",
         "n_ResultSort": 542190,
         "c_Class": "Elite",
         "_deepnote_index_column": 16939
        },
        {
         "c_Sport": "Swimming",
         "c_Season": 2018,
         "c_Event": "800m Freestyle",
         "c_Gender": "Women",
         "n_DateSort": 20180705,
         "c_Person": "Ester Rydbeck Nordèn",
         "c_PersonNatio": "Sweden",
         "c_NOC": "Sweden",
         "c_Result": "9:02.25",
         "n_ResultSort": 542250,
         "c_Class": "Elite",
         "_deepnote_index_column": 16940
        },
        {
         "c_Sport": "Swimming",
         "c_Season": 2018,
         "c_Event": "800m Freestyle",
         "c_Gender": "Women",
         "n_DateSort": 20180421,
         "c_Person": "Maria Eduar Seifer",
         "c_PersonNatio": "Brazil",
         "c_NOC": "Brazil",
         "c_Result": "9:02.27",
         "n_ResultSort": 542270,
         "c_Class": "Elite",
         "_deepnote_index_column": 16941
        },
        {
         "c_Sport": "Swimming",
         "c_Season": 2018,
         "c_Event": "800m Freestyle",
         "c_Gender": "Women",
         "n_DateSort": 20180818,
         "c_Person": "Hyuu Ohba",
         "c_PersonNatio": "Japan",
         "c_NOC": "Japan",
         "c_Result": "9:02.28",
         "n_ResultSort": 542280,
         "c_Class": "Elite",
         "_deepnote_index_column": 16942
        },
        {
         "c_Sport": "Swimming",
         "c_Season": 2018,
         "c_Event": "800m Freestyle",
         "c_Gender": "Women",
         "n_DateSort": 20180726,
         "c_Person": "Klara Bosnjak",
         "c_PersonNatio": "Croatia",
         "c_NOC": "Croatia",
         "c_Result": "9:02.44",
         "n_ResultSort": 542440,
         "c_Class": "Elite",
         "_deepnote_index_column": 16943
        },
        {
         "c_Sport": "Swimming",
         "c_Season": 2018,
         "c_Event": "800m Freestyle",
         "c_Gender": "Women",
         "n_DateSort": 20180519,
         "c_Person": "Chantel Jeffrey",
         "c_PersonNatio": "Canada",
         "c_NOC": "Canada",
         "c_Result": "9:02.47",
         "n_ResultSort": 542470,
         "c_Class": "Elite",
         "_deepnote_index_column": 16944
        },
        {
         "c_Sport": "Swimming",
         "c_Season": 2018,
         "c_Event": "800m Freestyle",
         "c_Gender": "Women",
         "n_DateSort": 20180421,
         "c_Person": "Bindi Ware",
         "c_PersonNatio": "Australia",
         "c_NOC": "Australia",
         "c_Result": "9:02.48",
         "n_ResultSort": 542480,
         "c_Class": "Elite",
         "_deepnote_index_column": 16945
        },
        {
         "c_Sport": "Swimming",
         "c_Season": 2018,
         "c_Event": "800m Freestyle",
         "c_Gender": "Women",
         "n_DateSort": 20180302,
         "c_Person": "Ebony Blackstone",
         "c_PersonNatio": "Australia",
         "c_NOC": "Australia",
         "c_Result": "9:02.54",
         "n_ResultSort": 542540,
         "c_Class": "Elite",
         "_deepnote_index_column": 16946
        },
        {
         "c_Sport": "Swimming",
         "c_Season": 2018,
         "c_Event": "800m Freestyle",
         "c_Gender": "Women",
         "n_DateSort": 20180609,
         "c_Person": "Mia Steen Duus",
         "c_PersonNatio": "Denmark",
         "c_NOC": "Denmark",
         "c_Result": "9:02.55",
         "n_ResultSort": 542550,
         "c_Class": "Elite",
         "_deepnote_index_column": 16947
        }
       ]
      },
      "text/plain": "        c_Sport  c_Season          c_Event c_Gender  n_DateSort  \\\n0      Swimming      2018  100m Backstroke      Men    20180809   \n1      Swimming      2018  100m Backstroke      Men    20180822   \n2      Swimming      2018  100m Backstroke      Men    20180806   \n3      Swimming      2018  100m Backstroke      Men    20180819   \n4      Swimming      2018  100m Backstroke      Men    20180728   \n...         ...       ...              ...      ...         ...   \n16943  Swimming      2018   800m Freestyle    Women    20180726   \n16944  Swimming      2018   800m Freestyle    Women    20180519   \n16945  Swimming      2018   800m Freestyle    Women    20180421   \n16946  Swimming      2018   800m Freestyle    Women    20180302   \n16947  Swimming      2018   800m Freestyle    Women    20180609   \n\n                 c_Person  c_PersonNatio          c_NOC c_Result  \\\n0             Ryan Murphy  United States  United States    51.94   \n1                Xu Jiayu          China          China    52.30   \n2      Kliment Kolesnikov         Russia         Russia    52.51   \n3            Ryosuke Irie          Japan          Japan    52.53   \n4            Matt Grevers  United States  United States    52.55   \n...                   ...            ...            ...      ...   \n16943       Klara Bosnjak        Croatia        Croatia  9:02.44   \n16944     Chantel Jeffrey         Canada         Canada  9:02.47   \n16945          Bindi Ware      Australia      Australia  9:02.48   \n16946    Ebony Blackstone      Australia      Australia  9:02.54   \n16947      Mia Steen Duus        Denmark        Denmark  9:02.55   \n\n       n_ResultSort c_Class  \n0             51940   Elite  \n1             52300   Elite  \n2             52510   Elite  \n3             52530   Elite  \n4             52550   Elite  \n...             ...     ...  \n16943        542440   Elite  \n16944        542470   Elite  \n16945        542480   Elite  \n16946        542540   Elite  \n16947        542550   Elite  \n\n[16948 rows x 11 columns]",
      "text/html": "<div>\n<style scoped>\n    .dataframe tbody tr th:only-of-type {\n        vertical-align: middle;\n    }\n\n    .dataframe tbody tr th {\n        vertical-align: top;\n    }\n\n    .dataframe thead th {\n        text-align: right;\n    }\n</style>\n<table border=\"1\" class=\"dataframe\">\n  <thead>\n    <tr style=\"text-align: right;\">\n      <th></th>\n      <th>c_Sport</th>\n      <th>c_Season</th>\n      <th>c_Event</th>\n      <th>c_Gender</th>\n      <th>n_DateSort</th>\n      <th>c_Person</th>\n      <th>c_PersonNatio</th>\n      <th>c_NOC</th>\n      <th>c_Result</th>\n      <th>n_ResultSort</th>\n      <th>c_Class</th>\n    </tr>\n  </thead>\n  <tbody>\n    <tr>\n      <th>0</th>\n      <td>Swimming</td>\n      <td>2018</td>\n      <td>100m Backstroke</td>\n      <td>Men</td>\n      <td>20180809</td>\n      <td>Ryan Murphy</td>\n      <td>United States</td>\n      <td>United States</td>\n      <td>51.94</td>\n      <td>51940</td>\n      <td>Elite</td>\n    </tr>\n    <tr>\n      <th>1</th>\n      <td>Swimming</td>\n      <td>2018</td>\n      <td>100m Backstroke</td>\n      <td>Men</td>\n      <td>20180822</td>\n      <td>Xu Jiayu</td>\n      <td>China</td>\n      <td>China</td>\n      <td>52.30</td>\n      <td>52300</td>\n      <td>Elite</td>\n    </tr>\n    <tr>\n      <th>2</th>\n      <td>Swimming</td>\n      <td>2018</td>\n      <td>100m Backstroke</td>\n      <td>Men</td>\n      <td>20180806</td>\n      <td>Kliment Kolesnikov</td>\n      <td>Russia</td>\n      <td>Russia</td>\n      <td>52.51</td>\n      <td>52510</td>\n      <td>Elite</td>\n    </tr>\n    <tr>\n      <th>3</th>\n      <td>Swimming</td>\n      <td>2018</td>\n      <td>100m Backstroke</td>\n      <td>Men</td>\n      <td>20180819</td>\n      <td>Ryosuke Irie</td>\n      <td>Japan</td>\n      <td>Japan</td>\n      <td>52.53</td>\n      <td>52530</td>\n      <td>Elite</td>\n    </tr>\n    <tr>\n      <th>4</th>\n      <td>Swimming</td>\n      <td>2018</td>\n      <td>100m Backstroke</td>\n      <td>Men</td>\n      <td>20180728</td>\n      <td>Matt Grevers</td>\n      <td>United States</td>\n      <td>United States</td>\n      <td>52.55</td>\n      <td>52550</td>\n      <td>Elite</td>\n    </tr>\n    <tr>\n      <th>...</th>\n      <td>...</td>\n      <td>...</td>\n      <td>...</td>\n      <td>...</td>\n      <td>...</td>\n      <td>...</td>\n      <td>...</td>\n      <td>...</td>\n      <td>...</td>\n      <td>...</td>\n      <td>...</td>\n    </tr>\n    <tr>\n      <th>16943</th>\n      <td>Swimming</td>\n      <td>2018</td>\n      <td>800m Freestyle</td>\n      <td>Women</td>\n      <td>20180726</td>\n      <td>Klara Bosnjak</td>\n      <td>Croatia</td>\n      <td>Croatia</td>\n      <td>9:02.44</td>\n      <td>542440</td>\n      <td>Elite</td>\n    </tr>\n    <tr>\n      <th>16944</th>\n      <td>Swimming</td>\n      <td>2018</td>\n      <td>800m Freestyle</td>\n      <td>Women</td>\n      <td>20180519</td>\n      <td>Chantel Jeffrey</td>\n      <td>Canada</td>\n      <td>Canada</td>\n      <td>9:02.47</td>\n      <td>542470</td>\n      <td>Elite</td>\n    </tr>\n    <tr>\n      <th>16945</th>\n      <td>Swimming</td>\n      <td>2018</td>\n      <td>800m Freestyle</td>\n      <td>Women</td>\n      <td>20180421</td>\n      <td>Bindi Ware</td>\n      <td>Australia</td>\n      <td>Australia</td>\n      <td>9:02.48</td>\n      <td>542480</td>\n      <td>Elite</td>\n    </tr>\n    <tr>\n      <th>16946</th>\n      <td>Swimming</td>\n      <td>2018</td>\n      <td>800m Freestyle</td>\n      <td>Women</td>\n      <td>20180302</td>\n      <td>Ebony Blackstone</td>\n      <td>Australia</td>\n      <td>Australia</td>\n      <td>9:02.54</td>\n      <td>542540</td>\n      <td>Elite</td>\n    </tr>\n    <tr>\n      <th>16947</th>\n      <td>Swimming</td>\n      <td>2018</td>\n      <td>800m Freestyle</td>\n      <td>Women</td>\n      <td>20180609</td>\n      <td>Mia Steen Duus</td>\n      <td>Denmark</td>\n      <td>Denmark</td>\n      <td>9:02.55</td>\n      <td>542550</td>\n      <td>Elite</td>\n    </tr>\n  </tbody>\n</table>\n<p>16948 rows × 11 columns</p>\n</div>"
     },
     "metadata": {}
    }
   ]
  },
  {
   "cell_type": "markdown",
   "source": "#### 3. Filter Dataframe to contain athletes from 'Great Britain' only.\n> e.g. https://stackoverflow.com/questions/17071871/how-to-select-rows-from-a-dataframe-based-on-column-values",
   "metadata": {
    "tags": [],
    "cell_id": "00002-93c74907-907e-4719-90f2-0d0f01091ab2",
    "deepnote_cell_type": "markdown"
   }
  },
  {
   "cell_type": "code",
   "metadata": {
    "tags": [],
    "cell_id": "00003-e9aefc00-dd66-4813-97a8-e236a67fd10a",
    "deepnote_to_be_reexecuted": false,
    "source_hash": "e8ba6802",
    "execution_millis": 94,
    "execution_start": 1619189735348,
    "deepnote_cell_type": "code"
   },
   "source": "new_gb_df = df.loc[df['c_NOC'] == 'Great Britain']\nnew_gb_df",
   "execution_count": null,
   "outputs": [
    {
     "output_type": "execute_result",
     "execution_count": 15,
     "data": {
      "application/vnd.deepnote.dataframe.v2+json": {
       "row_count": 874,
       "column_count": 11,
       "columns": [
        {
         "name": "c_Sport",
         "dtype": "object",
         "stats": {
          "unique_count": 1,
          "nan_count": 0,
          "categories": [
           {
            "name": "Swimming",
            "count": 874
           }
          ]
         }
        },
        {
         "name": "c_Season",
         "dtype": "int64",
         "stats": {
          "unique_count": 1,
          "nan_count": 0,
          "min": "2018",
          "max": "2018",
          "histogram": [
           {
            "bin_start": 2017.5,
            "bin_end": 2017.6,
            "count": 0
           },
           {
            "bin_start": 2017.6,
            "bin_end": 2017.7,
            "count": 0
           },
           {
            "bin_start": 2017.7,
            "bin_end": 2017.8,
            "count": 0
           },
           {
            "bin_start": 2017.8,
            "bin_end": 2017.9,
            "count": 0
           },
           {
            "bin_start": 2017.9,
            "bin_end": 2018,
            "count": 0
           },
           {
            "bin_start": 2018,
            "bin_end": 2018.1,
            "count": 874
           },
           {
            "bin_start": 2018.1,
            "bin_end": 2018.2,
            "count": 0
           },
           {
            "bin_start": 2018.2,
            "bin_end": 2018.3,
            "count": 0
           },
           {
            "bin_start": 2018.3,
            "bin_end": 2018.4,
            "count": 0
           },
           {
            "bin_start": 2018.4,
            "bin_end": 2018.5,
            "count": 0
           }
          ]
         }
        },
        {
         "name": "c_Event",
         "dtype": "object",
         "stats": {
          "unique_count": 20,
          "nan_count": 0,
          "categories": [
           {
            "name": "50m Breaststroke",
            "count": 66
           },
           {
            "name": "200m Backstroke",
            "count": 65
           },
           {
            "name": "18 others",
            "count": 743
           }
          ]
         }
        },
        {
         "name": "c_Gender",
         "dtype": "object",
         "stats": {
          "unique_count": 3,
          "nan_count": 0,
          "categories": [
           {
            "name": "Women",
            "count": 502
           },
           {
            "name": "Men",
            "count": 369
           },
           {
            "name": "Mixed",
            "count": 3
           }
          ]
         }
        },
        {
         "name": "n_DateSort",
         "dtype": "int64",
         "stats": {
          "unique_count": 89,
          "nan_count": 0,
          "min": "20180111",
          "max": "20181201",
          "histogram": [
           {
            "bin_start": 20180111,
            "bin_end": 20180220,
            "count": 27
           },
           {
            "bin_start": 20180220,
            "bin_end": 20180329,
            "count": 125
           },
           {
            "bin_start": 20180329,
            "bin_end": 20180438,
            "count": 195
           },
           {
            "bin_start": 20180438,
            "bin_end": 20180547,
            "count": 32
           },
           {
            "bin_start": 20180547,
            "bin_end": 20180656,
            "count": 27
           },
           {
            "bin_start": 20180656,
            "bin_end": 20180765,
            "count": 413
           },
           {
            "bin_start": 20180765,
            "bin_end": 20180874,
            "count": 49
           },
           {
            "bin_start": 20180874,
            "bin_end": 20180983,
            "count": 0
           },
           {
            "bin_start": 20180983,
            "bin_end": 20181092,
            "count": 0
           },
           {
            "bin_start": 20181092,
            "bin_end": 20181201,
            "count": 6
           }
          ]
         }
        },
        {
         "name": "c_Person",
         "dtype": "object",
         "stats": {
          "unique_count": 362,
          "nan_count": 9,
          "categories": [
           {
            "name": "Laura Stephens",
            "count": 8
           },
           {
            "name": "361 others",
            "count": 857
           },
           {
            "name": "Missing",
            "count": 9
           }
          ]
         }
        },
        {
         "name": "c_PersonNatio",
         "dtype": "object",
         "stats": {
          "unique_count": 9,
          "nan_count": 9,
          "categories": [
           {
            "name": "Great Britain",
            "count": 609
           },
           {
            "name": "8 others",
            "count": 256
           },
           {
            "name": "Missing",
            "count": 9
           }
          ]
         }
        },
        {
         "name": "c_NOC",
         "dtype": "object",
         "stats": {
          "unique_count": 1,
          "nan_count": 0,
          "categories": [
           {
            "name": "Great Britain",
            "count": 874
           }
          ]
         }
        },
        {
         "name": "c_Result",
         "dtype": "object",
         "stats": {
          "unique_count": 815,
          "nan_count": 0,
          "categories": [
           {
            "name": "25.94",
            "count": 4
           },
           {
            "name": "26.09",
            "count": 3
           },
           {
            "name": "813 others",
            "count": 867
           }
          ]
         }
        },
        {
         "name": "n_ResultSort",
         "dtype": "int64",
         "stats": {
          "unique_count": 815,
          "nan_count": 0,
          "min": "21110",
          "max": "1034890",
          "histogram": [
           {
            "bin_start": 21110,
            "bin_end": 122488,
            "count": 500
           },
           {
            "bin_start": 122488,
            "bin_end": 223866,
            "count": 204
           },
           {
            "bin_start": 223866,
            "bin_end": 325244,
            "count": 89
           },
           {
            "bin_start": 325244,
            "bin_end": 426622,
            "count": 1
           },
           {
            "bin_start": 426622,
            "bin_end": 528000,
            "count": 29
           },
           {
            "bin_start": 528000,
            "bin_end": 629378,
            "count": 20
           },
           {
            "bin_start": 629378,
            "bin_end": 730756,
            "count": 0
           },
           {
            "bin_start": 730756,
            "bin_end": 832134,
            "count": 0
           },
           {
            "bin_start": 832134,
            "bin_end": 933512,
            "count": 3
           },
           {
            "bin_start": 933512,
            "bin_end": 1034890,
            "count": 28
           }
          ]
         }
        },
        {
         "name": "c_Class",
         "dtype": "object",
         "stats": {
          "unique_count": 1,
          "nan_count": 0,
          "categories": [
           {
            "name": "Elite",
            "count": 874
           }
          ]
         }
        },
        {
         "name": "_deepnote_index_column",
         "dtype": "int64"
        }
       ],
       "rows_top": [
        {
         "c_Sport": "Swimming",
         "c_Season": 2018,
         "c_Event": "100m Backstroke",
         "c_Gender": "Men",
         "n_DateSort": 20180407,
         "c_Person": "Chris Walker-Hebborn",
         "c_PersonNatio": "England",
         "c_NOC": "Great Britain",
         "c_Result": "54.23",
         "n_ResultSort": 54230,
         "c_Class": "Elite",
         "_deepnote_index_column": 39
        },
        {
         "c_Sport": "Swimming",
         "c_Season": 2018,
         "c_Event": "100m Backstroke",
         "c_Gender": "Men",
         "n_DateSort": 20180406,
         "c_Person": "Luke Greenbank",
         "c_PersonNatio": "England",
         "c_NOC": "Great Britain",
         "c_Result": "54.37",
         "n_ResultSort": 54370,
         "c_Class": "Elite",
         "_deepnote_index_column": 47
        },
        {
         "c_Sport": "Swimming",
         "c_Season": 2018,
         "c_Event": "100m Backstroke",
         "c_Gender": "Men",
         "n_DateSort": 20180806,
         "c_Person": "Nicholas Pyle",
         "c_PersonNatio": "Great Britain",
         "c_NOC": "Great Britain",
         "c_Result": "54.50",
         "n_ResultSort": 54500,
         "c_Class": "Elite",
         "_deepnote_index_column": 60
        },
        {
         "c_Sport": "Swimming",
         "c_Season": 2018,
         "c_Event": "100m Backstroke",
         "c_Gender": "Men",
         "n_DateSort": 20180406,
         "c_Person": "Xavier Castelli",
         "c_PersonNatio": "Wales",
         "c_NOC": "Great Britain",
         "c_Result": "54.60",
         "n_ResultSort": 54600,
         "c_Class": "Elite",
         "_deepnote_index_column": 62
        },
        {
         "c_Sport": "Swimming",
         "c_Season": 2018,
         "c_Event": "100m Backstroke",
         "c_Gender": "Men",
         "n_DateSort": 20180805,
         "c_Person": "Brodie Williams",
         "c_PersonNatio": "Great Britain",
         "c_NOC": "Great Britain",
         "c_Result": "54.60",
         "n_ResultSort": 54600,
         "c_Class": "Elite",
         "_deepnote_index_column": 63
        },
        {
         "c_Sport": "Swimming",
         "c_Season": 2018,
         "c_Event": "100m Backstroke",
         "c_Gender": "Men",
         "n_DateSort": 20180405,
         "c_Person": "Elliot Clogg",
         "c_PersonNatio": "England",
         "c_NOC": "Great Britain",
         "c_Result": "55.08",
         "n_ResultSort": 55080,
         "c_Class": "Elite",
         "_deepnote_index_column": 108
        },
        {
         "c_Sport": "Swimming",
         "c_Season": 2018,
         "c_Event": "100m Backstroke",
         "c_Gender": "Men",
         "n_DateSort": 20180407,
         "c_Person": "Daniel Cross",
         "c_PersonNatio": "Great Britain",
         "c_NOC": "Great Britain",
         "c_Result": "55.09",
         "n_ResultSort": 55090,
         "c_Class": "Elite",
         "_deepnote_index_column": 111
        },
        {
         "c_Sport": "Swimming",
         "c_Season": 2018,
         "c_Event": "100m Backstroke",
         "c_Gender": "Men",
         "n_DateSort": 20180405,
         "c_Person": "Craig McNally",
         "c_PersonNatio": "Scotland",
         "c_NOC": "Great Britain",
         "c_Result": "55.28",
         "n_ResultSort": 55280,
         "c_Class": "Elite",
         "_deepnote_index_column": 126
        },
        {
         "c_Sport": "Swimming",
         "c_Season": 2018,
         "c_Event": "100m Backstroke",
         "c_Gender": "Men",
         "n_DateSort": 20180725,
         "c_Person": "Martyn Walton",
         "c_PersonNatio": "England",
         "c_NOC": "Great Britain",
         "c_Result": "55.34",
         "n_ResultSort": 55340,
         "c_Class": "Elite",
         "_deepnote_index_column": 134
        },
        {
         "c_Sport": "Swimming",
         "c_Season": 2018,
         "c_Event": "100m Backstroke",
         "c_Gender": "Men",
         "n_DateSort": 20180721,
         "c_Person": "Joseph Clark",
         "c_PersonNatio": "Great Britain",
         "c_NOC": "Great Britain",
         "c_Result": "55.55",
         "n_ResultSort": 55550,
         "c_Class": "Elite",
         "_deepnote_index_column": 174
        },
        {
         "c_Sport": "Swimming",
         "c_Season": 2018,
         "c_Event": "100m Backstroke",
         "c_Gender": "Men",
         "n_DateSort": 20180406,
         "c_Person": "Joseph Hulme",
         "c_PersonNatio": "Great Britain",
         "c_NOC": "Great Britain",
         "c_Result": "55.77",
         "n_ResultSort": 55770,
         "c_Class": "Elite",
         "_deepnote_index_column": 194
        },
        {
         "c_Sport": "Swimming",
         "c_Season": 2018,
         "c_Event": "100m Backstroke",
         "c_Gender": "Men",
         "n_DateSort": 20180407,
         "c_Person": "Timothy Shuttleworth",
         "c_PersonNatio": "Great Britain",
         "c_NOC": "Great Britain",
         "c_Result": "55.96",
         "n_ResultSort": 55960,
         "c_Class": "Elite",
         "_deepnote_index_column": 227
        },
        {
         "c_Sport": "Swimming",
         "c_Season": 2018,
         "c_Event": "100m Backstroke",
         "c_Gender": "Men",
         "n_DateSort": 20180728,
         "c_Person": "Francisco Rogerio Santos",
         "c_PersonNatio": "Great Britain",
         "c_NOC": "Great Britain",
         "c_Result": "56.03",
         "n_ResultSort": 56030,
         "c_Class": "Elite",
         "_deepnote_index_column": 235
        },
        {
         "c_Sport": "Swimming",
         "c_Season": 2018,
         "c_Event": "100m Backstroke",
         "c_Gender": "Men",
         "n_DateSort": 20180725,
         "c_Person": "Oliver Fitt",
         "c_PersonNatio": "Great Britain",
         "c_NOC": "Great Britain",
         "c_Result": "56.07",
         "n_ResultSort": 56070,
         "c_Class": "Elite",
         "_deepnote_index_column": 241
        },
        {
         "c_Sport": "Swimming",
         "c_Season": 2018,
         "c_Event": "100m Backstroke",
         "c_Gender": "Men",
         "n_DateSort": 20180725,
         "c_Person": "Joseph Small",
         "c_PersonNatio": "Great Britain",
         "c_NOC": "Great Britain",
         "c_Result": "56.07",
         "n_ResultSort": 56070,
         "c_Class": "Elite",
         "_deepnote_index_column": 242
        },
        {
         "c_Sport": "Swimming",
         "c_Season": 2018,
         "c_Event": "100m Backstroke",
         "c_Gender": "Men",
         "n_DateSort": 20180725,
         "c_Person": "Liam White",
         "c_PersonNatio": "Great Britain",
         "c_NOC": "Great Britain",
         "c_Result": "56.29",
         "n_ResultSort": 56290,
         "c_Class": "Elite",
         "_deepnote_index_column": 278
        },
        {
         "c_Sport": "Swimming",
         "c_Season": 2018,
         "c_Event": "100m Backstroke",
         "c_Gender": "Men",
         "n_DateSort": 20180405,
         "c_Person": "Harry Shalamon",
         "c_PersonNatio": "Jersey",
         "c_NOC": "Great Britain",
         "c_Result": "56.41",
         "n_ResultSort": 56410,
         "c_Class": "Elite",
         "_deepnote_index_column": 296
        },
        {
         "c_Sport": "Swimming",
         "c_Season": 2018,
         "c_Event": "100m Backstroke",
         "c_Gender": "Men",
         "n_DateSort": 20180302,
         "c_Person": "Duncan Scott",
         "c_PersonNatio": "Scotland",
         "c_NOC": "Great Britain",
         "c_Result": "56.43",
         "n_ResultSort": 56430,
         "c_Class": "Elite",
         "_deepnote_index_column": 297
        },
        {
         "c_Sport": "Swimming",
         "c_Season": 2018,
         "c_Event": "100m Backstroke",
         "c_Gender": "Men",
         "n_DateSort": 20180725,
         "c_Person": "Scott Gibson",
         "c_PersonNatio": "Great Britain",
         "c_NOC": "Great Britain",
         "c_Result": "56.46",
         "n_ResultSort": 56460,
         "c_Class": "Elite",
         "_deepnote_index_column": 306
        },
        {
         "c_Sport": "Swimming",
         "c_Season": 2018,
         "c_Event": "100m Backstroke",
         "c_Gender": "Men",
         "n_DateSort": 20180725,
         "c_Person": "James Oxborrow",
         "c_PersonNatio": "Great Britain",
         "c_NOC": "Great Britain",
         "c_Result": "56.49",
         "n_ResultSort": 56490,
         "c_Class": "Elite",
         "_deepnote_index_column": 312
        },
        {
         "c_Sport": "Swimming",
         "c_Season": 2018,
         "c_Event": "100m Backstroke",
         "c_Gender": "Men",
         "n_DateSort": 20180725,
         "c_Person": "James Mcfadzen",
         "c_PersonNatio": "Great Britain",
         "c_NOC": "Great Britain",
         "c_Result": "56.53",
         "n_ResultSort": 56530,
         "c_Class": "Elite",
         "_deepnote_index_column": 323
        },
        {
         "c_Sport": "Swimming",
         "c_Season": 2018,
         "c_Event": "100m Backstroke",
         "c_Gender": "Men",
         "n_DateSort": 20180725,
         "c_Person": "Callum Barrett",
         "c_PersonNatio": "Great Britain",
         "c_NOC": "Great Britain",
         "c_Result": "56.67",
         "n_ResultSort": 56670,
         "c_Class": "Elite",
         "_deepnote_index_column": 355
        },
        {
         "c_Sport": "Swimming",
         "c_Season": 2018,
         "c_Event": "100m Backstroke",
         "c_Gender": "Men",
         "n_DateSort": 20180725,
         "c_Person": "Charlie Brown",
         "c_PersonNatio": "Great Britain",
         "c_NOC": "Great Britain",
         "c_Result": "56.74",
         "n_ResultSort": 56740,
         "c_Class": "Elite",
         "_deepnote_index_column": 375
        },
        {
         "c_Sport": "Swimming",
         "c_Season": 2018,
         "c_Event": "100m Backstroke",
         "c_Gender": "Men",
         "n_DateSort": 20180728,
         "c_Person": "William Kearsey",
         "c_PersonNatio": "Great Britain",
         "c_NOC": "Great Britain",
         "c_Result": "56.86",
         "n_ResultSort": 56860,
         "c_Class": "Elite",
         "_deepnote_index_column": 409
        },
        {
         "c_Sport": "Swimming",
         "c_Season": 2018,
         "c_Event": "100m Backstroke",
         "c_Gender": "Men",
         "n_DateSort": 20180302,
         "c_Person": "Jack Shillinglaw",
         "c_PersonNatio": "Great Britain",
         "c_NOC": "Great Britain",
         "c_Result": "56.94",
         "n_ResultSort": 56940,
         "c_Class": "Elite",
         "_deepnote_index_column": 424
        },
        {
         "c_Sport": "Swimming",
         "c_Season": 2018,
         "c_Event": "100m Backstroke",
         "c_Gender": "Men",
         "n_DateSort": 20180725,
         "c_Person": "Myles Stirk",
         "c_PersonNatio": "Great Britain",
         "c_NOC": "Great Britain",
         "c_Result": "56.96",
         "n_ResultSort": 56960,
         "c_Class": "Elite",
         "_deepnote_index_column": 434
        },
        {
         "c_Sport": "Swimming",
         "c_Season": 2018,
         "c_Event": "100m Backstroke",
         "c_Gender": "Men",
         "n_DateSort": 20180302,
         "c_Person": "Thomas Gilroy",
         "c_PersonNatio": "Great Britain",
         "c_NOC": "Great Britain",
         "c_Result": "57.00",
         "n_ResultSort": 57000,
         "c_Class": "Elite",
         "_deepnote_index_column": 443
        },
        {
         "c_Sport": "Swimming",
         "c_Season": 2018,
         "c_Event": "100m Backstroke",
         "c_Gender": "Men",
         "n_DateSort": 20180302,
         "c_Person": "Perry Gardner",
         "c_PersonNatio": "Great Britain",
         "c_NOC": "Great Britain",
         "c_Result": "57.02",
         "n_ResultSort": 57020,
         "c_Class": "Elite",
         "_deepnote_index_column": 450
        },
        {
         "c_Sport": "Swimming",
         "c_Season": 2018,
         "c_Event": "100m Backstroke",
         "c_Gender": "Men",
         "n_DateSort": 20180725,
         "c_Person": "Jacob Davies",
         "c_PersonNatio": "Great Britain",
         "c_NOC": "Great Britain",
         "c_Result": "57.11",
         "n_ResultSort": 57110,
         "c_Class": "Elite",
         "_deepnote_index_column": 467
        },
        {
         "c_Sport": "Swimming",
         "c_Season": 2018,
         "c_Event": "100m Backstroke",
         "c_Gender": "Men",
         "n_DateSort": 20180302,
         "c_Person": "Kyle Chisholm",
         "c_PersonNatio": "Great Britain",
         "c_NOC": "Great Britain",
         "c_Result": "57.17",
         "n_ResultSort": 57170,
         "c_Class": "Elite",
         "_deepnote_index_column": 479
        },
        {
         "c_Sport": "Swimming",
         "c_Season": 2018,
         "c_Event": "100m Backstroke",
         "c_Gender": "Women",
         "n_DateSort": 20180806,
         "c_Person": "Georgia Davies",
         "c_PersonNatio": "Wales",
         "c_NOC": "Great Britain",
         "c_Result": "59.12",
         "n_ResultSort": 59120,
         "c_Class": "Elite",
         "_deepnote_index_column": 499
        },
        {
         "c_Sport": "Swimming",
         "c_Season": 2018,
         "c_Event": "100m Backstroke",
         "c_Gender": "Women",
         "n_DateSort": 20180809,
         "c_Person": "Kathleen Dawson",
         "c_PersonNatio": "Scotland",
         "c_NOC": "Great Britain",
         "c_Result": "1:00.17",
         "n_ResultSort": 60170,
         "c_Class": "Elite",
         "_deepnote_index_column": 530
        },
        {
         "c_Sport": "Swimming",
         "c_Season": 2018,
         "c_Event": "100m Backstroke",
         "c_Gender": "Women",
         "n_DateSort": 20180406,
         "c_Person": "Elizabeth Simmonds",
         "c_PersonNatio": "England",
         "c_NOC": "Great Britain",
         "c_Result": "1:00.49",
         "n_ResultSort": 60490,
         "c_Class": "Elite",
         "_deepnote_index_column": 542
        },
        {
         "c_Sport": "Swimming",
         "c_Season": 2018,
         "c_Event": "100m Backstroke",
         "c_Gender": "Women",
         "n_DateSort": 20180406,
         "c_Person": "Cassie Wild",
         "c_PersonNatio": "Scotland",
         "c_NOC": "Great Britain",
         "c_Result": "1:00.93",
         "n_ResultSort": 60930,
         "c_Class": "Elite",
         "_deepnote_index_column": 559
        },
        {
         "c_Sport": "Swimming",
         "c_Season": 2018,
         "c_Event": "100m Backstroke",
         "c_Gender": "Women",
         "n_DateSort": 20180406,
         "c_Person": "Jessica Fullalove",
         "c_PersonNatio": "England",
         "c_NOC": "Great Britain",
         "c_Result": "1:01.04",
         "n_ResultSort": 61040,
         "c_Class": "Elite",
         "_deepnote_index_column": 568
        },
        {
         "c_Sport": "Swimming",
         "c_Season": 2018,
         "c_Event": "100m Backstroke",
         "c_Gender": "Women",
         "n_DateSort": 20180725,
         "c_Person": "Lily Boseley",
         "c_PersonNatio": "Great Britain",
         "c_NOC": "Great Britain",
         "c_Result": "1:01.54",
         "n_ResultSort": 61540,
         "c_Class": "Elite",
         "_deepnote_index_column": 599
        },
        {
         "c_Sport": "Swimming",
         "c_Season": 2018,
         "c_Event": "100m Backstroke",
         "c_Gender": "Women",
         "n_DateSort": 20180725,
         "c_Person": "Chloe Golding",
         "c_PersonNatio": "England",
         "c_NOC": "Great Britain",
         "c_Result": "1:01.56",
         "n_ResultSort": 61560,
         "c_Class": "Elite",
         "_deepnote_index_column": 600
        },
        {
         "c_Sport": "Swimming",
         "c_Season": 2018,
         "c_Event": "100m Backstroke",
         "c_Gender": "Women",
         "n_DateSort": 20180725,
         "c_Person": "Alicia Wilson",
         "c_PersonNatio": "Great Britain",
         "c_NOC": "Great Britain",
         "c_Result": "1:01.73",
         "n_ResultSort": 61730,
         "c_Class": "Elite",
         "_deepnote_index_column": 623
        },
        {
         "c_Sport": "Swimming",
         "c_Season": 2018,
         "c_Event": "100m Backstroke",
         "c_Gender": "Women",
         "n_DateSort": 20180725,
         "c_Person": "Lauren Cox",
         "c_PersonNatio": "Great Britain",
         "c_NOC": "Great Britain",
         "c_Result": "1:01.99",
         "n_ResultSort": 61990,
         "c_Class": "Elite",
         "_deepnote_index_column": 648
        },
        {
         "c_Sport": "Swimming",
         "c_Season": 2018,
         "c_Event": "100m Backstroke",
         "c_Gender": "Women",
         "n_DateSort": 20180406,
         "c_Person": "Anna Maine",
         "c_PersonNatio": "England",
         "c_NOC": "Great Britain",
         "c_Result": "1:02.29",
         "n_ResultSort": 62290,
         "c_Class": "Elite",
         "_deepnote_index_column": 681
        },
        {
         "c_Sport": "Swimming",
         "c_Season": 2018,
         "c_Event": "100m Backstroke",
         "c_Gender": "Women",
         "n_DateSort": 20180725,
         "c_Person": "Tegan Drew",
         "c_PersonNatio": "Great Britain",
         "c_NOC": "Great Britain",
         "c_Result": "1:02.34",
         "n_ResultSort": 62340,
         "c_Class": "Elite",
         "_deepnote_index_column": 690
        },
        {
         "c_Sport": "Swimming",
         "c_Season": 2018,
         "c_Event": "100m Backstroke",
         "c_Gender": "Women",
         "n_DateSort": 20180725,
         "c_Person": "Laura Stephens",
         "c_PersonNatio": "England",
         "c_NOC": "Great Britain",
         "c_Result": "1:02.40",
         "n_ResultSort": 62400,
         "c_Class": "Elite",
         "_deepnote_index_column": 702
        },
        {
         "c_Sport": "Swimming",
         "c_Season": 2018,
         "c_Event": "100m Backstroke",
         "c_Gender": "Women",
         "n_DateSort": 20180725,
         "c_Person": "Jennifer King",
         "c_PersonNatio": "Great Britain",
         "c_NOC": "Great Britain",
         "c_Result": "1:02.61",
         "n_ResultSort": 62610,
         "c_Class": "Elite",
         "_deepnote_index_column": 736
        },
        {
         "c_Sport": "Swimming",
         "c_Season": 2018,
         "c_Event": "100m Backstroke",
         "c_Gender": "Women",
         "n_DateSort": 20180406,
         "c_Person": "Charlotte Evans",
         "c_PersonNatio": "Great Britain",
         "c_NOC": "Great Britain",
         "c_Result": "1:02.61",
         "n_ResultSort": 62610,
         "c_Class": "Elite",
         "_deepnote_index_column": 737
        },
        {
         "c_Sport": "Swimming",
         "c_Season": 2018,
         "c_Event": "100m Backstroke",
         "c_Gender": "Women",
         "n_DateSort": 20180303,
         "c_Person": "Kathryn Greenslade",
         "c_PersonNatio": "Wales",
         "c_NOC": "Great Britain",
         "c_Result": "1:02.64",
         "n_ResultSort": 62640,
         "c_Class": "Elite",
         "_deepnote_index_column": 745
        }
       ],
       "rows_bottom": [
        {
         "c_Sport": "Swimming",
         "c_Season": 2018,
         "c_Event": "800m Freestyle",
         "c_Gender": "Men",
         "n_DateSort": 20180301,
         "c_Person": "Daniel Jervis",
         "c_PersonNatio": "Wales",
         "c_NOC": "Great Britain",
         "c_Result": "8:01.56",
         "n_ResultSort": 481560,
         "c_Class": "Elite",
         "_deepnote_index_column": 16041
        },
        {
         "c_Sport": "Swimming",
         "c_Season": 2018,
         "c_Event": "800m Freestyle",
         "c_Gender": "Men",
         "n_DateSort": 20180707,
         "c_Person": "Nathan Hughes",
         "c_PersonNatio": "Great Britain",
         "c_NOC": "Great Britain",
         "c_Result": "8:05.15",
         "n_ResultSort": 485150,
         "c_Class": "Elite",
         "_deepnote_index_column": 16078
        },
        {
         "c_Sport": "Swimming",
         "c_Season": 2018,
         "c_Event": "800m Freestyle",
         "c_Gender": "Men",
         "n_DateSort": 20180728,
         "c_Person": "Luke Turley",
         "c_PersonNatio": "Great Britain",
         "c_NOC": "Great Britain",
         "c_Result": "8:07.61",
         "n_ResultSort": 487610,
         "c_Class": "Elite",
         "_deepnote_index_column": 16112
        },
        {
         "c_Sport": "Swimming",
         "c_Season": 2018,
         "c_Event": "800m Freestyle",
         "c_Gender": "Men",
         "n_DateSort": 20180303,
         "c_Person": "Stephen Milne",
         "c_PersonNatio": "Scotland",
         "c_NOC": "Great Britain",
         "c_Result": "8:08.67",
         "n_ResultSort": 488670,
         "c_Class": "Elite",
         "_deepnote_index_column": 16129
        },
        {
         "c_Sport": "Swimming",
         "c_Season": 2018,
         "c_Event": "800m Freestyle",
         "c_Gender": "Men",
         "n_DateSort": 20180728,
         "c_Person": "Samuel Budd",
         "c_PersonNatio": "Great Britain",
         "c_NOC": "Great Britain",
         "c_Result": "8:08.97",
         "n_ResultSort": 488970,
         "c_Class": "Elite",
         "_deepnote_index_column": 16136
        },
        {
         "c_Sport": "Swimming",
         "c_Season": 2018,
         "c_Event": "800m Freestyle",
         "c_Gender": "Men",
         "n_DateSort": 20180728,
         "c_Person": "Jakob Goodman",
         "c_PersonNatio": "Great Britain",
         "c_NOC": "Great Britain",
         "c_Result": "8:09.00",
         "n_ResultSort": 489000,
         "c_Class": "Elite",
         "_deepnote_index_column": 16138
        },
        {
         "c_Sport": "Swimming",
         "c_Season": 2018,
         "c_Event": "800m Freestyle",
         "c_Gender": "Men",
         "n_DateSort": 20180728,
         "c_Person": "William Bell",
         "c_PersonNatio": "Great Britain",
         "c_NOC": "Great Britain",
         "c_Result": "8:10.76",
         "n_ResultSort": 490760,
         "c_Class": "Elite",
         "_deepnote_index_column": 16171
        },
        {
         "c_Sport": "Swimming",
         "c_Season": 2018,
         "c_Event": "800m Freestyle",
         "c_Gender": "Men",
         "n_DateSort": 20181128,
         "c_Person": "Gordon Mason",
         "c_PersonNatio": "Great Britain",
         "c_NOC": "Great Britain",
         "c_Result": "8:12.87",
         "n_ResultSort": 492870,
         "c_Class": "Elite",
         "_deepnote_index_column": 16215
        },
        {
         "c_Sport": "Swimming",
         "c_Season": 2018,
         "c_Event": "800m Freestyle",
         "c_Gender": "Men",
         "n_DateSort": 20180728,
         "c_Person": "Samuel Osborne",
         "c_PersonNatio": "Great Britain",
         "c_NOC": "Great Britain",
         "c_Result": "8:15.33",
         "n_ResultSort": 495330,
         "c_Class": "Elite",
         "_deepnote_index_column": 16266
        },
        {
         "c_Sport": "Swimming",
         "c_Season": 2018,
         "c_Event": "800m Freestyle",
         "c_Gender": "Men",
         "n_DateSort": 20180408,
         "c_Person": "William Ryley",
         "c_PersonNatio": "Great Britain",
         "c_NOC": "Great Britain",
         "c_Result": "8:17.00",
         "n_ResultSort": 497000,
         "c_Class": "Elite",
         "_deepnote_index_column": 16297
        },
        {
         "c_Sport": "Swimming",
         "c_Season": 2018,
         "c_Event": "800m Freestyle",
         "c_Gender": "Men",
         "n_DateSort": 20180728,
         "c_Person": "Nathan Wells",
         "c_PersonNatio": "Great Britain",
         "c_NOC": "Great Britain",
         "c_Result": "8:19.66",
         "n_ResultSort": 499660,
         "c_Class": "Elite",
         "_deepnote_index_column": 16357
        },
        {
         "c_Sport": "Swimming",
         "c_Season": 2018,
         "c_Event": "800m Freestyle",
         "c_Gender": "Men",
         "n_DateSort": 20180728,
         "c_Person": "Charlie Poole",
         "c_PersonNatio": "Great Britain",
         "c_NOC": "Great Britain",
         "c_Result": "8:20.12",
         "n_ResultSort": 500120,
         "c_Class": "Elite",
         "_deepnote_index_column": 16365
        },
        {
         "c_Sport": "Swimming",
         "c_Season": 2018,
         "c_Event": "800m Freestyle",
         "c_Gender": "Men",
         "n_DateSort": 20180813,
         "c_Person": "Giuseppe Bogani",
         "c_PersonNatio": "Great Britain",
         "c_NOC": "Great Britain",
         "c_Result": "8:20.29",
         "n_ResultSort": 500290,
         "c_Class": "Elite",
         "_deepnote_index_column": 16371
        },
        {
         "c_Sport": "Swimming",
         "c_Season": 2018,
         "c_Event": "800m Freestyle",
         "c_Gender": "Men",
         "n_DateSort": 20180728,
         "c_Person": "Ryan Reader",
         "c_PersonNatio": "Great Britain",
         "c_NOC": "Great Britain",
         "c_Result": "8:20.54",
         "n_ResultSort": 500540,
         "c_Class": "Elite",
         "_deepnote_index_column": 16379
        },
        {
         "c_Sport": "Swimming",
         "c_Season": 2018,
         "c_Event": "800m Freestyle",
         "c_Gender": "Men",
         "n_DateSort": 20180728,
         "c_Person": "Hector Pardoe",
         "c_PersonNatio": "Great Britain",
         "c_NOC": "Great Britain",
         "c_Result": "8:21.17",
         "n_ResultSort": 501170,
         "c_Class": "Elite",
         "_deepnote_index_column": 16395
        },
        {
         "c_Sport": "Swimming",
         "c_Season": 2018,
         "c_Event": "800m Freestyle",
         "c_Gender": "Men",
         "n_DateSort": 20180728,
         "c_Person": "George Barber",
         "c_PersonNatio": "Great Britain",
         "c_NOC": "Great Britain",
         "c_Result": "8:21.56",
         "n_ResultSort": 501560,
         "c_Class": "Elite",
         "_deepnote_index_column": 16401
        },
        {
         "c_Sport": "Swimming",
         "c_Season": 2018,
         "c_Event": "800m Freestyle",
         "c_Gender": "Men",
         "n_DateSort": 20180303,
         "c_Person": "Max Murphy",
         "c_PersonNatio": "Great Britain",
         "c_NOC": "Great Britain",
         "c_Result": "8:22.19",
         "n_ResultSort": 502190,
         "c_Class": "Elite",
         "_deepnote_index_column": 16411
        },
        {
         "c_Sport": "Swimming",
         "c_Season": 2018,
         "c_Event": "800m Freestyle",
         "c_Gender": "Men",
         "n_DateSort": 20180728,
         "c_Person": "Jamie Scholes",
         "c_PersonNatio": "Great Britain",
         "c_NOC": "Great Britain",
         "c_Result": "8:22.45",
         "n_ResultSort": 502450,
         "c_Class": "Elite",
         "_deepnote_index_column": 16417
        },
        {
         "c_Sport": "Swimming",
         "c_Season": 2018,
         "c_Event": "800m Freestyle",
         "c_Gender": "Men",
         "n_DateSort": 20180728,
         "c_Person": "Myles Robinson-Young",
         "c_PersonNatio": "Great Britain",
         "c_NOC": "Great Britain",
         "c_Result": "8:23.31",
         "n_ResultSort": 503310,
         "c_Class": "Elite",
         "_deepnote_index_column": 16435
        },
        {
         "c_Sport": "Swimming",
         "c_Season": 2018,
         "c_Event": "800m Freestyle",
         "c_Gender": "Women",
         "n_DateSort": 20180409,
         "c_Person": "Holly Hibbott",
         "c_PersonNatio": "England",
         "c_NOC": "Great Britain",
         "c_Result": "8:29.05",
         "n_ResultSort": 509050,
         "c_Class": "Elite",
         "_deepnote_index_column": 16472
        },
        {
         "c_Sport": "Swimming",
         "c_Season": 2018,
         "c_Event": "800m Freestyle",
         "c_Gender": "Women",
         "n_DateSort": 20180409,
         "c_Person": "Camilla Hattersley",
         "c_PersonNatio": "Scotland",
         "c_NOC": "Great Britain",
         "c_Result": "8:32.65",
         "n_ResultSort": 512650,
         "c_Class": "Elite",
         "_deepnote_index_column": 16484
        },
        {
         "c_Sport": "Swimming",
         "c_Season": 2018,
         "c_Event": "800m Freestyle",
         "c_Gender": "Women",
         "n_DateSort": 20180408,
         "c_Person": "Jazmin Carlin",
         "c_PersonNatio": "Wales",
         "c_NOC": "Great Britain",
         "c_Result": "8:36.52",
         "n_ResultSort": 516520,
         "c_Class": "Elite",
         "_deepnote_index_column": 16506
        },
        {
         "c_Sport": "Swimming",
         "c_Season": 2018,
         "c_Event": "800m Freestyle",
         "c_Gender": "Women",
         "n_DateSort": 20180725,
         "c_Person": "Polly Holden",
         "c_PersonNatio": "Great Britain",
         "c_NOC": "Great Britain",
         "c_Result": "8:38.73",
         "n_ResultSort": 518730,
         "c_Class": "Elite",
         "_deepnote_index_column": 16524
        },
        {
         "c_Sport": "Swimming",
         "c_Season": 2018,
         "c_Event": "800m Freestyle",
         "c_Gender": "Women",
         "n_DateSort": 20180408,
         "c_Person": "Alice Dearing",
         "c_PersonNatio": "England",
         "c_NOC": "Great Britain",
         "c_Result": "8:40.63",
         "n_ResultSort": 520630,
         "c_Class": "Elite",
         "_deepnote_index_column": 16534
        },
        {
         "c_Sport": "Swimming",
         "c_Season": 2018,
         "c_Event": "800m Freestyle",
         "c_Gender": "Women",
         "n_DateSort": 20180408,
         "c_Person": "Ellena Jones",
         "c_PersonNatio": "Wales",
         "c_NOC": "Great Britain",
         "c_Result": "8:43.89",
         "n_ResultSort": 523890,
         "c_Class": "Elite",
         "_deepnote_index_column": 16567
        },
        {
         "c_Sport": "Swimming",
         "c_Season": 2018,
         "c_Event": "800m Freestyle",
         "c_Gender": "Women",
         "n_DateSort": 20180408,
         "c_Person": "Emily Clarke",
         "c_PersonNatio": "Great Britain",
         "c_NOC": "Great Britain",
         "c_Result": "8:48.42",
         "n_ResultSort": 528420,
         "c_Class": "Elite",
         "_deepnote_index_column": 16635
        },
        {
         "c_Sport": "Swimming",
         "c_Season": 2018,
         "c_Event": "800m Freestyle",
         "c_Gender": "Women",
         "n_DateSort": 20180704,
         "c_Person": "Leah Crisp",
         "c_PersonNatio": "Great Britain",
         "c_NOC": "Great Britain",
         "c_Result": "8:48.83",
         "n_ResultSort": 528830,
         "c_Class": "Elite",
         "_deepnote_index_column": 16641
        },
        {
         "c_Sport": "Swimming",
         "c_Season": 2018,
         "c_Event": "800m Freestyle",
         "c_Gender": "Women",
         "n_DateSort": 20180725,
         "c_Person": "Maisie Mccartney",
         "c_PersonNatio": "Great Britain",
         "c_NOC": "Great Britain",
         "c_Result": "8:48.86",
         "n_ResultSort": 528860,
         "c_Class": "Elite",
         "_deepnote_index_column": 16642
        },
        {
         "c_Sport": "Swimming",
         "c_Season": 2018,
         "c_Event": "800m Freestyle",
         "c_Gender": "Women",
         "n_DateSort": 20180725,
         "c_Person": "Georgia Darwent",
         "c_PersonNatio": "Great Britain",
         "c_NOC": "Great Britain",
         "c_Result": "8:51.12",
         "n_ResultSort": 531120,
         "c_Class": "Elite",
         "_deepnote_index_column": 16689
        },
        {
         "c_Sport": "Swimming",
         "c_Season": 2018,
         "c_Event": "800m Freestyle",
         "c_Gender": "Women",
         "n_DateSort": 20180725,
         "c_Person": "Alisha Hawkins",
         "c_PersonNatio": "Great Britain",
         "c_NOC": "Great Britain",
         "c_Result": "8:51.44",
         "n_ResultSort": 531440,
         "c_Class": "Elite",
         "_deepnote_index_column": 16695
        },
        {
         "c_Sport": "Swimming",
         "c_Season": 2018,
         "c_Event": "800m Freestyle",
         "c_Gender": "Women",
         "n_DateSort": 20180323,
         "c_Person": "Madeleine Crompton",
         "c_PersonNatio": "Great Britain",
         "c_NOC": "Great Britain",
         "c_Result": "8:53.48",
         "n_ResultSort": 533480,
         "c_Class": "Elite",
         "_deepnote_index_column": 16737
        },
        {
         "c_Sport": "Swimming",
         "c_Season": 2018,
         "c_Event": "800m Freestyle",
         "c_Gender": "Women",
         "n_DateSort": 20180731,
         "c_Person": "Elizabeth Boeckman",
         "c_PersonNatio": "Great Britain",
         "c_NOC": "Great Britain",
         "c_Result": "8:54.42",
         "n_ResultSort": 534420,
         "c_Class": "Elite",
         "_deepnote_index_column": 16757
        },
        {
         "c_Sport": "Swimming",
         "c_Season": 2018,
         "c_Event": "800m Freestyle",
         "c_Gender": "Women",
         "n_DateSort": 20180725,
         "c_Person": "Lola Davison",
         "c_PersonNatio": "Great Britain",
         "c_NOC": "Great Britain",
         "c_Result": "8:54.69",
         "n_ResultSort": 534690,
         "c_Class": "Elite",
         "_deepnote_index_column": 16765
        },
        {
         "c_Sport": "Swimming",
         "c_Season": 2018,
         "c_Event": "800m Freestyle",
         "c_Gender": "Women",
         "n_DateSort": 20180614,
         "c_Person": "Meg Finnon",
         "c_PersonNatio": "Great Britain",
         "c_NOC": "Great Britain",
         "c_Result": "8:54.93",
         "n_ResultSort": 534930,
         "c_Class": "Elite",
         "_deepnote_index_column": 16774
        },
        {
         "c_Sport": "Swimming",
         "c_Season": 2018,
         "c_Event": "800m Freestyle",
         "c_Gender": "Women",
         "n_DateSort": 20180725,
         "c_Person": "Nicole Ryan",
         "c_PersonNatio": "Great Britain",
         "c_NOC": "Great Britain",
         "c_Result": "8:55.16",
         "n_ResultSort": 535160,
         "c_Class": "Elite",
         "_deepnote_index_column": 16780
        },
        {
         "c_Sport": "Swimming",
         "c_Season": 2018,
         "c_Event": "800m Freestyle",
         "c_Gender": "Women",
         "n_DateSort": 20180725,
         "c_Person": "Mollie Wright",
         "c_PersonNatio": "Great Britain",
         "c_NOC": "Great Britain",
         "c_Result": "8:56.14",
         "n_ResultSort": 536140,
         "c_Class": "Elite",
         "_deepnote_index_column": 16797
        },
        {
         "c_Sport": "Swimming",
         "c_Season": 2018,
         "c_Event": "800m Freestyle",
         "c_Gender": "Women",
         "n_DateSort": 20180725,
         "c_Person": "Rachel Anderson",
         "c_PersonNatio": "Great Britain",
         "c_NOC": "Great Britain",
         "c_Result": "8:56.71",
         "n_ResultSort": 536710,
         "c_Class": "Elite",
         "_deepnote_index_column": 16807
        },
        {
         "c_Sport": "Swimming",
         "c_Season": 2018,
         "c_Event": "800m Freestyle",
         "c_Gender": "Women",
         "n_DateSort": 20180725,
         "c_Person": "Emilia Sansome",
         "c_PersonNatio": "Great Britain",
         "c_NOC": "Great Britain",
         "c_Result": "8:57.79",
         "n_ResultSort": 537790,
         "c_Class": "Elite",
         "_deepnote_index_column": 16833
        },
        {
         "c_Sport": "Swimming",
         "c_Season": 2018,
         "c_Event": "800m Freestyle",
         "c_Gender": "Women",
         "n_DateSort": 20180426,
         "c_Person": "Philippa O'Brien",
         "c_PersonNatio": "Great Britain",
         "c_NOC": "Great Britain",
         "c_Result": "8:58.13",
         "n_ResultSort": 538130,
         "c_Class": "Elite",
         "_deepnote_index_column": 16843
        },
        {
         "c_Sport": "Swimming",
         "c_Season": 2018,
         "c_Event": "800m Freestyle",
         "c_Gender": "Women",
         "n_DateSort": 20180507,
         "c_Person": "Michaella Glenister",
         "c_PersonNatio": "Great Britain",
         "c_NOC": "Great Britain",
         "c_Result": "8:58.75",
         "n_ResultSort": 538750,
         "c_Class": "Elite",
         "_deepnote_index_column": 16857
        },
        {
         "c_Sport": "Swimming",
         "c_Season": 2018,
         "c_Event": "800m Freestyle",
         "c_Gender": "Women",
         "n_DateSort": 20180725,
         "c_Person": "Freya Colbert",
         "c_PersonNatio": "Great Britain",
         "c_NOC": "Great Britain",
         "c_Result": "8:59.58",
         "n_ResultSort": 539580,
         "c_Class": "Elite",
         "_deepnote_index_column": 16873
        },
        {
         "c_Sport": "Swimming",
         "c_Season": 2018,
         "c_Event": "800m Freestyle",
         "c_Gender": "Women",
         "n_DateSort": 20180302,
         "c_Person": "Aisha Thornton",
         "c_PersonNatio": "Great Britain",
         "c_NOC": "Great Britain",
         "c_Result": "9:00.89",
         "n_ResultSort": 540890,
         "c_Class": "Elite",
         "_deepnote_index_column": 16903
        },
        {
         "c_Sport": "Swimming",
         "c_Season": 2018,
         "c_Event": "800m Freestyle",
         "c_Gender": "Women",
         "n_DateSort": 20180323,
         "c_Person": "Fleur Lewis",
         "c_PersonNatio": "Great Britain",
         "c_NOC": "Great Britain",
         "c_Result": "9:01.59",
         "n_ResultSort": 541590,
         "c_Class": "Elite",
         "_deepnote_index_column": 16918
        },
        {
         "c_Sport": "Swimming",
         "c_Season": 2018,
         "c_Event": "800m Freestyle",
         "c_Gender": "Women",
         "n_DateSort": 20180507,
         "c_Person": "Betsy Wizard",
         "c_PersonNatio": "Great Britain",
         "c_NOC": "Great Britain",
         "c_Result": "9:01.90",
         "n_ResultSort": 541900,
         "c_Class": "Elite",
         "_deepnote_index_column": 16930
        },
        {
         "c_Sport": "Swimming",
         "c_Season": 2018,
         "c_Event": "800m Freestyle",
         "c_Gender": "Women",
         "n_DateSort": 20180331,
         "c_Person": "Iona Macleod",
         "c_PersonNatio": "Great Britain",
         "c_NOC": "Great Britain",
         "c_Result": "9:02.12",
         "n_ResultSort": 542120,
         "c_Class": "Elite",
         "_deepnote_index_column": 16938
        }
       ]
      },
      "text/plain": "        c_Sport  c_Season          c_Event c_Gender  n_DateSort  \\\n39     Swimming      2018  100m Backstroke      Men    20180407   \n47     Swimming      2018  100m Backstroke      Men    20180406   \n60     Swimming      2018  100m Backstroke      Men    20180806   \n62     Swimming      2018  100m Backstroke      Men    20180406   \n63     Swimming      2018  100m Backstroke      Men    20180805   \n...         ...       ...              ...      ...         ...   \n16873  Swimming      2018   800m Freestyle    Women    20180725   \n16903  Swimming      2018   800m Freestyle    Women    20180302   \n16918  Swimming      2018   800m Freestyle    Women    20180323   \n16930  Swimming      2018   800m Freestyle    Women    20180507   \n16938  Swimming      2018   800m Freestyle    Women    20180331   \n\n                   c_Person  c_PersonNatio          c_NOC c_Result  \\\n39     Chris Walker-Hebborn        England  Great Britain    54.23   \n47           Luke Greenbank        England  Great Britain    54.37   \n60            Nicholas Pyle  Great Britain  Great Britain    54.50   \n62          Xavier Castelli          Wales  Great Britain    54.60   \n63          Brodie Williams  Great Britain  Great Britain    54.60   \n...                     ...            ...            ...      ...   \n16873         Freya Colbert  Great Britain  Great Britain  8:59.58   \n16903        Aisha Thornton  Great Britain  Great Britain  9:00.89   \n16918           Fleur Lewis  Great Britain  Great Britain  9:01.59   \n16930          Betsy Wizard  Great Britain  Great Britain  9:01.90   \n16938          Iona Macleod  Great Britain  Great Britain  9:02.12   \n\n       n_ResultSort c_Class  \n39            54230   Elite  \n47            54370   Elite  \n60            54500   Elite  \n62            54600   Elite  \n63            54600   Elite  \n...             ...     ...  \n16873        539580   Elite  \n16903        540890   Elite  \n16918        541590   Elite  \n16930        541900   Elite  \n16938        542120   Elite  \n\n[874 rows x 11 columns]",
      "text/html": "<div>\n<style scoped>\n    .dataframe tbody tr th:only-of-type {\n        vertical-align: middle;\n    }\n\n    .dataframe tbody tr th {\n        vertical-align: top;\n    }\n\n    .dataframe thead th {\n        text-align: right;\n    }\n</style>\n<table border=\"1\" class=\"dataframe\">\n  <thead>\n    <tr style=\"text-align: right;\">\n      <th></th>\n      <th>c_Sport</th>\n      <th>c_Season</th>\n      <th>c_Event</th>\n      <th>c_Gender</th>\n      <th>n_DateSort</th>\n      <th>c_Person</th>\n      <th>c_PersonNatio</th>\n      <th>c_NOC</th>\n      <th>c_Result</th>\n      <th>n_ResultSort</th>\n      <th>c_Class</th>\n    </tr>\n  </thead>\n  <tbody>\n    <tr>\n      <th>39</th>\n      <td>Swimming</td>\n      <td>2018</td>\n      <td>100m Backstroke</td>\n      <td>Men</td>\n      <td>20180407</td>\n      <td>Chris Walker-Hebborn</td>\n      <td>England</td>\n      <td>Great Britain</td>\n      <td>54.23</td>\n      <td>54230</td>\n      <td>Elite</td>\n    </tr>\n    <tr>\n      <th>47</th>\n      <td>Swimming</td>\n      <td>2018</td>\n      <td>100m Backstroke</td>\n      <td>Men</td>\n      <td>20180406</td>\n      <td>Luke Greenbank</td>\n      <td>England</td>\n      <td>Great Britain</td>\n      <td>54.37</td>\n      <td>54370</td>\n      <td>Elite</td>\n    </tr>\n    <tr>\n      <th>60</th>\n      <td>Swimming</td>\n      <td>2018</td>\n      <td>100m Backstroke</td>\n      <td>Men</td>\n      <td>20180806</td>\n      <td>Nicholas Pyle</td>\n      <td>Great Britain</td>\n      <td>Great Britain</td>\n      <td>54.50</td>\n      <td>54500</td>\n      <td>Elite</td>\n    </tr>\n    <tr>\n      <th>62</th>\n      <td>Swimming</td>\n      <td>2018</td>\n      <td>100m Backstroke</td>\n      <td>Men</td>\n      <td>20180406</td>\n      <td>Xavier Castelli</td>\n      <td>Wales</td>\n      <td>Great Britain</td>\n      <td>54.60</td>\n      <td>54600</td>\n      <td>Elite</td>\n    </tr>\n    <tr>\n      <th>63</th>\n      <td>Swimming</td>\n      <td>2018</td>\n      <td>100m Backstroke</td>\n      <td>Men</td>\n      <td>20180805</td>\n      <td>Brodie Williams</td>\n      <td>Great Britain</td>\n      <td>Great Britain</td>\n      <td>54.60</td>\n      <td>54600</td>\n      <td>Elite</td>\n    </tr>\n    <tr>\n      <th>...</th>\n      <td>...</td>\n      <td>...</td>\n      <td>...</td>\n      <td>...</td>\n      <td>...</td>\n      <td>...</td>\n      <td>...</td>\n      <td>...</td>\n      <td>...</td>\n      <td>...</td>\n      <td>...</td>\n    </tr>\n    <tr>\n      <th>16873</th>\n      <td>Swimming</td>\n      <td>2018</td>\n      <td>800m Freestyle</td>\n      <td>Women</td>\n      <td>20180725</td>\n      <td>Freya Colbert</td>\n      <td>Great Britain</td>\n      <td>Great Britain</td>\n      <td>8:59.58</td>\n      <td>539580</td>\n      <td>Elite</td>\n    </tr>\n    <tr>\n      <th>16903</th>\n      <td>Swimming</td>\n      <td>2018</td>\n      <td>800m Freestyle</td>\n      <td>Women</td>\n      <td>20180302</td>\n      <td>Aisha Thornton</td>\n      <td>Great Britain</td>\n      <td>Great Britain</td>\n      <td>9:00.89</td>\n      <td>540890</td>\n      <td>Elite</td>\n    </tr>\n    <tr>\n      <th>16918</th>\n      <td>Swimming</td>\n      <td>2018</td>\n      <td>800m Freestyle</td>\n      <td>Women</td>\n      <td>20180323</td>\n      <td>Fleur Lewis</td>\n      <td>Great Britain</td>\n      <td>Great Britain</td>\n      <td>9:01.59</td>\n      <td>541590</td>\n      <td>Elite</td>\n    </tr>\n    <tr>\n      <th>16930</th>\n      <td>Swimming</td>\n      <td>2018</td>\n      <td>800m Freestyle</td>\n      <td>Women</td>\n      <td>20180507</td>\n      <td>Betsy Wizard</td>\n      <td>Great Britain</td>\n      <td>Great Britain</td>\n      <td>9:01.90</td>\n      <td>541900</td>\n      <td>Elite</td>\n    </tr>\n    <tr>\n      <th>16938</th>\n      <td>Swimming</td>\n      <td>2018</td>\n      <td>800m Freestyle</td>\n      <td>Women</td>\n      <td>20180331</td>\n      <td>Iona Macleod</td>\n      <td>Great Britain</td>\n      <td>Great Britain</td>\n      <td>9:02.12</td>\n      <td>542120</td>\n      <td>Elite</td>\n    </tr>\n  </tbody>\n</table>\n<p>874 rows × 11 columns</p>\n</div>"
     },
     "metadata": {}
    }
   ]
  },
  {
   "cell_type": "markdown",
   "source": "#### 4. Write the filtered dataframe to a new file called ```gb_swimming_psb_data.json``` within the ```data``` folder.\n> e.g. https://pandas.pydata.org/pandas-docs/stable/reference/api/pandas.DataFrame.to_json.html",
   "metadata": {
    "tags": [],
    "cell_id": "00004-ef0fcd33-c028-47e7-aaaf-618f968a6098",
    "deepnote_cell_type": "markdown"
   }
  },
  {
   "cell_type": "code",
   "metadata": {
    "tags": [],
    "cell_id": "00005-f3ed3fa7-8407-479f-9784-dbe8cfa1bf12",
    "deepnote_to_be_reexecuted": false,
    "source_hash": "e9c2fd8c",
    "execution_millis": 5,
    "execution_start": 1619189955287,
    "deepnote_cell_type": "code"
   },
   "source": "new_gb_df.to_json('./../data/gb_psb_data.json', orient=\"records\")",
   "execution_count": null,
   "outputs": []
  },
  {
   "cell_type": "markdown",
   "source": "<a style='text-decoration:none;line-height:16px;display:flex;color:#5B5B62;padding:10px;justify-content:end;' href='https://deepnote.com?utm_source=created-in-deepnote-cell&projectId=0895def6-8045-418b-b26b-022b302eebd8' target=\"_blank\">\n<img alt='Created in deepnote.com' style='display:inline;max-height:16px;margin:0px;margin-right:7.5px;' src='data:image/svg+xml;base64,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' > </img>\nCreated in <span style='font-weight:600;margin-left:4px;'>Deepnote</span></a>",
   "metadata": {
    "tags": [],
    "created_in_deepnote_cell": true,
    "deepnote_cell_type": "markdown"
   }
  }
 ],
 "nbformat": 4,
 "nbformat_minor": 2,
 "metadata": {
  "orig_nbformat": 2,
  "deepnote_notebook_id": "73bcd560-bd2a-4821-8956-b4131205c1a8",
  "deepnote_execution_queue": [],
  "deepnote": {}
 }
}